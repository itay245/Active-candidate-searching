{
 "cells": [
  {
   "cell_type": "markdown",
   "metadata": {
    "application/vnd.databricks.v1+cell": {
     "cellMetadata": {
      "byteLimit": 2048000,
      "rowLimit": 10000
     },
     "inputWidgets": {},
     "nuid": "dbb9af27-671b-4529-98a2-db7d21541e2c",
     "showTitle": false,
     "title": ""
    }
   },
   "source": [
    "### Initialization"
   ]
  },
  {
   "cell_type": "code",
   "execution_count": 0,
   "metadata": {
    "application/vnd.databricks.v1+cell": {
     "cellMetadata": {
      "byteLimit": 2048000,
      "rowLimit": 10000
     },
     "inputWidgets": {},
     "nuid": "d2b5e866-1d7b-4ba6-a9b0-9eebb4c90bfd",
     "showTitle": false,
     "title": ""
    }
   },
   "outputs": [
    {
     "output_type": "stream",
     "name": "stdout",
     "output_type": "stream",
     "text": [
      "Python interpreter will be restarted.\nRequirement already satisfied: sentence-transformers in /local_disk0/.ephemeral_nfs/envs/pythonEnv-86e983b9-b7e4-4a11-9d4d-70757f663f10/lib/python3.9/site-packages (2.6.1)\nRequirement already satisfied: torch>=1.11.0 in /local_disk0/.ephemeral_nfs/envs/pythonEnv-86e983b9-b7e4-4a11-9d4d-70757f663f10/lib/python3.9/site-packages (from sentence-transformers) (2.2.2)\nRequirement already satisfied: numpy in /databricks/python3/lib/python3.9/site-packages (from sentence-transformers) (1.20.3)\nRequirement already satisfied: scipy in /databricks/python3/lib/python3.9/site-packages (from sentence-transformers) (1.7.1)\nRequirement already satisfied: huggingface-hub>=0.15.1 in /local_disk0/.ephemeral_nfs/envs/pythonEnv-86e983b9-b7e4-4a11-9d4d-70757f663f10/lib/python3.9/site-packages (from sentence-transformers) (0.22.2)\nRequirement already satisfied: Pillow in /databricks/python3/lib/python3.9/site-packages (from sentence-transformers) (8.4.0)\nRequirement already satisfied: scikit-learn in /databricks/python3/lib/python3.9/site-packages (from sentence-transformers) (0.24.2)\nRequirement already satisfied: tqdm in /databricks/python3/lib/python3.9/site-packages (from sentence-transformers) (4.66.2)\nRequirement already satisfied: transformers<5.0.0,>=4.32.0 in /local_disk0/.ephemeral_nfs/envs/pythonEnv-86e983b9-b7e4-4a11-9d4d-70757f663f10/lib/python3.9/site-packages (from sentence-transformers) (4.39.3)\nRequirement already satisfied: pyyaml>=5.1 in /local_disk0/.ephemeral_nfs/envs/pythonEnv-86e983b9-b7e4-4a11-9d4d-70757f663f10/lib/python3.9/site-packages (from huggingface-hub>=0.15.1->sentence-transformers) (6.0.1)\nRequirement already satisfied: typing-extensions>=3.7.4.3 in /databricks/python3/lib/python3.9/site-packages (from huggingface-hub>=0.15.1->sentence-transformers) (4.11.0)\nRequirement already satisfied: filelock in /usr/local/lib/python3.9/dist-packages (from huggingface-hub>=0.15.1->sentence-transformers) (3.8.0)\nRequirement already satisfied: fsspec>=2023.5.0 in /local_disk0/.ephemeral_nfs/envs/pythonEnv-86e983b9-b7e4-4a11-9d4d-70757f663f10/lib/python3.9/site-packages (from huggingface-hub>=0.15.1->sentence-transformers) (2024.3.1)\nRequirement already satisfied: packaging>=20.9 in /databricks/python3/lib/python3.9/site-packages (from huggingface-hub>=0.15.1->sentence-transformers) (21.0)\nRequirement already satisfied: requests in /databricks/python3/lib/python3.9/site-packages (from huggingface-hub>=0.15.1->sentence-transformers) (2.26.0)\nRequirement already satisfied: pyparsing>=2.0.2 in /databricks/python3/lib/python3.9/site-packages (from packaging>=20.9->huggingface-hub>=0.15.1->sentence-transformers) (3.0.4)\nRequirement already satisfied: nvidia-cuda-nvrtc-cu12==12.1.105 in /local_disk0/.ephemeral_nfs/envs/pythonEnv-86e983b9-b7e4-4a11-9d4d-70757f663f10/lib/python3.9/site-packages (from torch>=1.11.0->sentence-transformers) (12.1.105)\nRequirement already satisfied: nvidia-cudnn-cu12==8.9.2.26 in /local_disk0/.ephemeral_nfs/envs/pythonEnv-86e983b9-b7e4-4a11-9d4d-70757f663f10/lib/python3.9/site-packages (from torch>=1.11.0->sentence-transformers) (8.9.2.26)\nRequirement already satisfied: nvidia-nvtx-cu12==12.1.105 in /local_disk0/.ephemeral_nfs/envs/pythonEnv-86e983b9-b7e4-4a11-9d4d-70757f663f10/lib/python3.9/site-packages (from torch>=1.11.0->sentence-transformers) (12.1.105)\nRequirement already satisfied: jinja2 in /databricks/python3/lib/python3.9/site-packages (from torch>=1.11.0->sentence-transformers) (2.11.3)\nRequirement already satisfied: nvidia-cusparse-cu12==12.1.0.106 in /local_disk0/.ephemeral_nfs/envs/pythonEnv-86e983b9-b7e4-4a11-9d4d-70757f663f10/lib/python3.9/site-packages (from torch>=1.11.0->sentence-transformers) (12.1.0.106)\nRequirement already satisfied: nvidia-cublas-cu12==12.1.3.1 in /local_disk0/.ephemeral_nfs/envs/pythonEnv-86e983b9-b7e4-4a11-9d4d-70757f663f10/lib/python3.9/site-packages (from torch>=1.11.0->sentence-transformers) (12.1.3.1)\nRequirement already satisfied: nvidia-cufft-cu12==11.0.2.54 in /local_disk0/.ephemeral_nfs/envs/pythonEnv-86e983b9-b7e4-4a11-9d4d-70757f663f10/lib/python3.9/site-packages (from torch>=1.11.0->sentence-transformers) (11.0.2.54)\nRequirement already satisfied: nvidia-nccl-cu12==2.19.3 in /local_disk0/.ephemeral_nfs/envs/pythonEnv-86e983b9-b7e4-4a11-9d4d-70757f663f10/lib/python3.9/site-packages (from torch>=1.11.0->sentence-transformers) (2.19.3)\nRequirement already satisfied: nvidia-cuda-cupti-cu12==12.1.105 in /local_disk0/.ephemeral_nfs/envs/pythonEnv-86e983b9-b7e4-4a11-9d4d-70757f663f10/lib/python3.9/site-packages (from torch>=1.11.0->sentence-transformers) (12.1.105)\nRequirement already satisfied: sympy in /local_disk0/.ephemeral_nfs/envs/pythonEnv-86e983b9-b7e4-4a11-9d4d-70757f663f10/lib/python3.9/site-packages (from torch>=1.11.0->sentence-transformers) (1.12)\nRequirement already satisfied: triton==2.2.0 in /local_disk0/.ephemeral_nfs/envs/pythonEnv-86e983b9-b7e4-4a11-9d4d-70757f663f10/lib/python3.9/site-packages (from torch>=1.11.0->sentence-transformers) (2.2.0)\nRequirement already satisfied: networkx in /local_disk0/.ephemeral_nfs/envs/pythonEnv-86e983b9-b7e4-4a11-9d4d-70757f663f10/lib/python3.9/site-packages (from torch>=1.11.0->sentence-transformers) (3.2.1)\nRequirement already satisfied: nvidia-cusolver-cu12==11.4.5.107 in /local_disk0/.ephemeral_nfs/envs/pythonEnv-86e983b9-b7e4-4a11-9d4d-70757f663f10/lib/python3.9/site-packages (from torch>=1.11.0->sentence-transformers) (11.4.5.107)\nRequirement already satisfied: nvidia-curand-cu12==10.3.2.106 in /local_disk0/.ephemeral_nfs/envs/pythonEnv-86e983b9-b7e4-4a11-9d4d-70757f663f10/lib/python3.9/site-packages (from torch>=1.11.0->sentence-transformers) (10.3.2.106)\nRequirement already satisfied: nvidia-cuda-runtime-cu12==12.1.105 in /local_disk0/.ephemeral_nfs/envs/pythonEnv-86e983b9-b7e4-4a11-9d4d-70757f663f10/lib/python3.9/site-packages (from torch>=1.11.0->sentence-transformers) (12.1.105)\nRequirement already satisfied: nvidia-nvjitlink-cu12 in /local_disk0/.ephemeral_nfs/envs/pythonEnv-86e983b9-b7e4-4a11-9d4d-70757f663f10/lib/python3.9/site-packages (from nvidia-cusolver-cu12==11.4.5.107->torch>=1.11.0->sentence-transformers) (12.4.127)\nRequirement already satisfied: regex!=2019.12.17 in /databricks/python3/lib/python3.9/site-packages (from transformers<5.0.0,>=4.32.0->sentence-transformers) (2023.12.25)\nRequirement already satisfied: tokenizers<0.19,>=0.14 in /local_disk0/.ephemeral_nfs/envs/pythonEnv-86e983b9-b7e4-4a11-9d4d-70757f663f10/lib/python3.9/site-packages (from transformers<5.0.0,>=4.32.0->sentence-transformers) (0.15.2)\nRequirement already satisfied: safetensors>=0.4.1 in /local_disk0/.ephemeral_nfs/envs/pythonEnv-86e983b9-b7e4-4a11-9d4d-70757f663f10/lib/python3.9/site-packages (from transformers<5.0.0,>=4.32.0->sentence-transformers) (0.4.2)\nRequirement already satisfied: MarkupSafe>=0.23 in /databricks/python3/lib/python3.9/site-packages (from jinja2->torch>=1.11.0->sentence-transformers) (2.0.1)\nRequirement already satisfied: idna<4,>=2.5 in /databricks/python3/lib/python3.9/site-packages (from requests->huggingface-hub>=0.15.1->sentence-transformers) (3.2)\nRequirement already satisfied: charset-normalizer~=2.0.0 in /databricks/python3/lib/python3.9/site-packages (from requests->huggingface-hub>=0.15.1->sentence-transformers) (2.0.4)\nRequirement already satisfied: urllib3<1.27,>=1.21.1 in /databricks/python3/lib/python3.9/site-packages (from requests->huggingface-hub>=0.15.1->sentence-transformers) (1.26.7)\nRequirement already satisfied: certifi>=2017.4.17 in /databricks/python3/lib/python3.9/site-packages (from requests->huggingface-hub>=0.15.1->sentence-transformers) (2021.10.8)\nRequirement already satisfied: threadpoolctl>=2.0.0 in /databricks/python3/lib/python3.9/site-packages (from scikit-learn->sentence-transformers) (2.2.0)\nRequirement already satisfied: joblib>=0.11 in /databricks/python3/lib/python3.9/site-packages (from scikit-learn->sentence-transformers) (1.0.1)\nRequirement already satisfied: mpmath>=0.19 in /local_disk0/.ephemeral_nfs/envs/pythonEnv-86e983b9-b7e4-4a11-9d4d-70757f663f10/lib/python3.9/site-packages (from sympy->torch>=1.11.0->sentence-transformers) (1.3.0)\nPython interpreter will be restarted.\nPython interpreter will be restarted.\nRequirement already satisfied: torch in /local_disk0/.ephemeral_nfs/envs/pythonEnv-86e983b9-b7e4-4a11-9d4d-70757f663f10/lib/python3.9/site-packages (2.2.2)\nRequirement already satisfied: nvidia-cuda-nvrtc-cu12==12.1.105 in /local_disk0/.ephemeral_nfs/envs/pythonEnv-86e983b9-b7e4-4a11-9d4d-70757f663f10/lib/python3.9/site-packages (from torch) (12.1.105)\nRequirement already satisfied: nvidia-cudnn-cu12==8.9.2.26 in /local_disk0/.ephemeral_nfs/envs/pythonEnv-86e983b9-b7e4-4a11-9d4d-70757f663f10/lib/python3.9/site-packages (from torch) (8.9.2.26)\nRequirement already satisfied: nvidia-nvtx-cu12==12.1.105 in /local_disk0/.ephemeral_nfs/envs/pythonEnv-86e983b9-b7e4-4a11-9d4d-70757f663f10/lib/python3.9/site-packages (from torch) (12.1.105)\nRequirement already satisfied: jinja2 in /databricks/python3/lib/python3.9/site-packages (from torch) (2.11.3)\nRequirement already satisfied: nvidia-cusparse-cu12==12.1.0.106 in /local_disk0/.ephemeral_nfs/envs/pythonEnv-86e983b9-b7e4-4a11-9d4d-70757f663f10/lib/python3.9/site-packages (from torch) (12.1.0.106)\nRequirement already satisfied: typing-extensions>=4.8.0 in /databricks/python3/lib/python3.9/site-packages (from torch) (4.11.0)\nRequirement already satisfied: filelock in /usr/local/lib/python3.9/dist-packages (from torch) (3.8.0)\nRequirement already satisfied: fsspec in /local_disk0/.ephemeral_nfs/envs/pythonEnv-86e983b9-b7e4-4a11-9d4d-70757f663f10/lib/python3.9/site-packages (from torch) (2024.3.1)\nRequirement already satisfied: nvidia-cublas-cu12==12.1.3.1 in /local_disk0/.ephemeral_nfs/envs/pythonEnv-86e983b9-b7e4-4a11-9d4d-70757f663f10/lib/python3.9/site-packages (from torch) (12.1.3.1)\nRequirement already satisfied: nvidia-cufft-cu12==11.0.2.54 in /local_disk0/.ephemeral_nfs/envs/pythonEnv-86e983b9-b7e4-4a11-9d4d-70757f663f10/lib/python3.9/site-packages (from torch) (11.0.2.54)\nRequirement already satisfied: nvidia-nccl-cu12==2.19.3 in /local_disk0/.ephemeral_nfs/envs/pythonEnv-86e983b9-b7e4-4a11-9d4d-70757f663f10/lib/python3.9/site-packages (from torch) (2.19.3)\nRequirement already satisfied: nvidia-cuda-cupti-cu12==12.1.105 in /local_disk0/.ephemeral_nfs/envs/pythonEnv-86e983b9-b7e4-4a11-9d4d-70757f663f10/lib/python3.9/site-packages (from torch) (12.1.105)\nRequirement already satisfied: sympy in /local_disk0/.ephemeral_nfs/envs/pythonEnv-86e983b9-b7e4-4a11-9d4d-70757f663f10/lib/python3.9/site-packages (from torch) (1.12)\nRequirement already satisfied: triton==2.2.0 in /local_disk0/.ephemeral_nfs/envs/pythonEnv-86e983b9-b7e4-4a11-9d4d-70757f663f10/lib/python3.9/site-packages (from torch) (2.2.0)\nRequirement already satisfied: networkx in /local_disk0/.ephemeral_nfs/envs/pythonEnv-86e983b9-b7e4-4a11-9d4d-70757f663f10/lib/python3.9/site-packages (from torch) (3.2.1)\nRequirement already satisfied: nvidia-cusolver-cu12==11.4.5.107 in /local_disk0/.ephemeral_nfs/envs/pythonEnv-86e983b9-b7e4-4a11-9d4d-70757f663f10/lib/python3.9/site-packages (from torch) (11.4.5.107)\nRequirement already satisfied: nvidia-curand-cu12==10.3.2.106 in /local_disk0/.ephemeral_nfs/envs/pythonEnv-86e983b9-b7e4-4a11-9d4d-70757f663f10/lib/python3.9/site-packages (from torch) (10.3.2.106)\nRequirement already satisfied: nvidia-cuda-runtime-cu12==12.1.105 in /local_disk0/.ephemeral_nfs/envs/pythonEnv-86e983b9-b7e4-4a11-9d4d-70757f663f10/lib/python3.9/site-packages (from torch) (12.1.105)\nRequirement already satisfied: nvidia-nvjitlink-cu12 in /local_disk0/.ephemeral_nfs/envs/pythonEnv-86e983b9-b7e4-4a11-9d4d-70757f663f10/lib/python3.9/site-packages (from nvidia-cusolver-cu12==11.4.5.107->torch) (12.4.127)\nRequirement already satisfied: MarkupSafe>=0.23 in /databricks/python3/lib/python3.9/site-packages (from jinja2->torch) (2.0.1)\nRequirement already satisfied: mpmath>=0.19 in /local_disk0/.ephemeral_nfs/envs/pythonEnv-86e983b9-b7e4-4a11-9d4d-70757f663f10/lib/python3.9/site-packages (from sympy->torch) (1.3.0)\nPython interpreter will be restarted.\n"
     ]
    }
   ],
   "source": [
    "%pip install sentence-transformers\n",
    "%pip install torch"
   ]
  },
  {
   "cell_type": "code",
   "execution_count": 0,
   "metadata": {
    "application/vnd.databricks.v1+cell": {
     "cellMetadata": {
      "byteLimit": 2048000,
      "rowLimit": 10000
     },
     "inputWidgets": {},
     "nuid": "9a9fd183-93a1-4746-900f-02555e330751",
     "showTitle": false,
     "title": ""
    }
   },
   "outputs": [
    {
     "output_type": "display_data",
     "data": {
      "application/vnd.databricks.v1+bamboolib_hint": "{\"pd.DataFrames\": [], \"version\": \"0.0.1\"}",
      "text/plain": []
     },
     "metadata": {},
     "output_type": "display_data"
    }
   ],
   "source": [
    "from pyspark.sql.types import *\n",
    "import pyspark\n",
    "from pyspark.sql import SparkSession\n",
    "from pyspark.sql import functions as F\n",
    "from pyspark.sql.functions import col, when, expr, add_months\n",
    "from pyspark.sql.window import Window\n",
    "spark = SparkSession.builder.getOrCreate()\n",
    "import matplotlib.pyplot as plt\n",
    "\n",
    "import re\n",
    "import numpy as np\n",
    "from datetime import datetime, timedelta\n",
    "import copy\n",
    "import pandas as pd\n",
    "import pickle\n",
    "\n",
    "import torch\n",
    "import torch.nn as nn\n",
    "import torch.optim as optim\n",
    "from torch.utils.data import Dataset, DataLoader\n",
    "import random"
   ]
  },
  {
   "cell_type": "code",
   "execution_count": 0,
   "metadata": {
    "application/vnd.databricks.v1+cell": {
     "cellMetadata": {
      "byteLimit": 2048000,
      "rowLimit": 10000
     },
     "inputWidgets": {},
     "nuid": "c1b249d9-f6cd-4f94-b329-88d22caddabb",
     "showTitle": false,
     "title": ""
    }
   },
   "outputs": [
    {
     "output_type": "stream",
     "name": "stdout",
     "output_type": "stream",
     "text": [
      "initial data:\n    * number of users:  3462290\n    * number of companies:  1422797\n"
     ]
    }
   ],
   "source": [
    "profiles = spark.read.parquet('/linkedin/people')\n",
    "companies = spark.read.parquet('/linkedin/companies')\n",
    "\n",
    "profiles_original_size = profiles.count()\n",
    "companies_original_size = companies.count()\n",
    "\n",
    "print(\"initial data:\")\n",
    "print(\"    * number of users: \", profiles_original_size)\n",
    "print(\"    * number of companies: \", companies_original_size)"
   ]
  },
  {
   "cell_type": "markdown",
   "metadata": {
    "application/vnd.databricks.v1+cell": {
     "cellMetadata": {
      "byteLimit": 2048000,
      "rowLimit": 10000
     },
     "inputWidgets": {},
     "nuid": "3af9cfcb-b033-48f2-adf4-b2c9d39a464b",
     "showTitle": false,
     "title": ""
    }
   },
   "source": [
    "### NLP model"
   ]
  },
  {
   "cell_type": "code",
   "execution_count": 0,
   "metadata": {
    "application/vnd.databricks.v1+cell": {
     "cellMetadata": {
      "byteLimit": 2048000,
      "rowLimit": 10000
     },
     "inputWidgets": {},
     "nuid": "f3d23131-f386-4d33-8dbd-24f10ed08205",
     "showTitle": false,
     "title": ""
    }
   },
   "outputs": [
    {
     "output_type": "stream",
     "name": "stdout",
     "output_type": "stream",
     "text": [
      "Finance\n"
     ]
    }
   ],
   "source": [
    "from pyspark.sql.types import *\n",
    "import pyspark\n",
    "from pyspark.sql import SparkSession\n",
    "from pyspark.sql import functions as F\n",
    "import sparknlp\n",
    "import pandas as pd\n",
    "import numpy\n",
    "\n",
    "class MyModel(nn.Module):\n",
    "    def __init__(self):\n",
    "        super(MyModel, self).__init__()\n",
    "        self.fc1 = nn.Linear(768, 256)\n",
    "        self.relu1 = nn.ReLU()\n",
    "        self.fc2 = nn.Linear(256, 128)\n",
    "        self.bn = nn.BatchNorm1d(128)\n",
    "        self.dropout = nn.Dropout(0.2)\n",
    "        self.relu2 = nn.ReLU()\n",
    "        self.fc3 = nn.Linear(128, 31)\n",
    "        \n",
    "    def forward(self, x):\n",
    "        x = self.fc1(x)\n",
    "        x = self.relu1(x)\n",
    "        x = self.fc2(x)\n",
    "        x = self.bn(x)\n",
    "        x = self.relu2(x)\n",
    "        x = self.dropout(x)\n",
    "        x = self.fc3(x)\n",
    "        return x\n",
    "\n",
    "\n",
    "model1 = MyModel()\n",
    "model1.load_state_dict(torch.load('/Workspace/Users/eilondagan@campus.technion.ac.il/model_weights.pth'))\n",
    "\n",
    "\n",
    "from sentence_transformers import SentenceTransformer\n",
    "from tqdm import tqdm\n",
    "\n",
    "# Load pre-trained model\n",
    "embedder = SentenceTransformer('paraphrase-distilroberta-base-v1')\n",
    "\n",
    "\n",
    "\n",
    "# Function to embed sentences\n",
    "def embed_sentences(sentences):\n",
    "    embeddings = embedder.encode(sentences)\n",
    "    return embeddings\n",
    "\n",
    "\n",
    "data = [\n",
    "    \"AI\",\n",
    "    \"Aerospace\",\n",
    "    \"Construction\",\n",
    "    \"Consumer\",\n",
    "    \"Crypto\",\n",
    "    \"Data\",\n",
    "    \"Education\",\n",
    "    \"Energy\",\n",
    "    \"Finance\",\n",
    "    \"Fitness\",\n",
    "    \"Food\",\n",
    "    \"HR\",\n",
    "    \"Hardware\",\n",
    "    \"Healthcare\",\n",
    "    \"Infrastructure\",\n",
    "    \"Legal\",\n",
    "    \"Logistics\",\n",
    "    \"Manufacturing\",\n",
    "    \"Marketing\",\n",
    "    \"Media\",\n",
    "    \"Other\",\n",
    "    \"Product\",\n",
    "    \"Real Estate\",\n",
    "    \"Recruiting\",\n",
    "    \"Retail\",\n",
    "    \"Sales\",\n",
    "    \"Security\",\n",
    "    \"Support\",\n",
    "    \"Transportation\",\n",
    "    \"Travel\",\n",
    "    \"Unknown\"\n",
    "]\n",
    "d = {i:meta for i,meta in enumerate(data)}\n",
    "model1.eval()\n",
    "def use_model(sentence):\n",
    "    vec = torch.tensor(embed_sentences(sentence))\n",
    "\n",
    "    output = model1.forward(vec.reshape(1,768))\n",
    "   \n",
    "    \n",
    "    _, predicted = torch.max(output.data,1)\n",
    "    ind =d[predicted.item()]\n",
    "    return ind\n",
    "\n",
    "\n",
    "print(use_model(\"some relevant string\"))"
   ]
  },
  {
   "cell_type": "markdown",
   "metadata": {
    "application/vnd.databricks.v1+cell": {
     "cellMetadata": {
      "byteLimit": 2048000,
      "rowLimit": 10000
     },
     "inputWidgets": {},
     "nuid": "48ea9a06-a54e-44c6-9b2d-d5c1ebb0ae1f",
     "showTitle": false,
     "title": ""
    }
   },
   "source": [
    "# Data Analysis"
   ]
  },
  {
   "cell_type": "markdown",
   "metadata": {
    "application/vnd.databricks.v1+cell": {
     "cellMetadata": {
      "byteLimit": 2048000,
      "rowLimit": 10000
     },
     "inputWidgets": {},
     "nuid": "7aa1d143-1a28-4037-b133-16de2cbc08d8",
     "showTitle": false,
     "title": ""
    }
   },
   "source": [
    "### Year-Based Industries Data"
   ]
  },
  {
   "cell_type": "code",
   "execution_count": 0,
   "metadata": {
    "application/vnd.databricks.v1+cell": {
     "cellMetadata": {
      "byteLimit": 2048000,
      "rowLimit": 10000
     },
     "inputWidgets": {},
     "nuid": "26ed744d-1103-4b21-b238-1b8f4012d90f",
     "showTitle": false,
     "title": ""
    }
   },
   "outputs": [],
   "source": [
    "path_layoffs = \"/Workspace/Users/eilondagan@campus.technion.ac.il/layoffs.csv\"\n",
    "path_layoffs_3 = \"/Workspace/Users/eilondagan@campus.technion.ac.il/layoffs_data(3).csv\""
   ]
  },
  {
   "cell_type": "code",
   "execution_count": 0,
   "metadata": {
    "application/vnd.databricks.v1+cell": {
     "cellMetadata": {
      "byteLimit": 2048000,
      "rowLimit": 10000
     },
     "inputWidgets": {},
     "nuid": "f7a82317-0bf8-486a-bbb8-e70b21ee77de",
     "showTitle": false,
     "title": ""
    }
   },
   "outputs": [],
   "source": [
    "df = pd.read_csv(path_layoffs)\n",
    "df[\"percentage_laid_off\"].fillna(0,inplace=True)\n",
    "df[\"funds_raised\"].fillna(0,inplace=True)\n",
    "df[\"date\"] = df[\"date\"].convert_dtypes(convert_string=True)\n",
    "df['year'] = df['date'].apply(lambda x: int(x.split('-')[0]))\n",
    "\n",
    "years = df[\"year\"].unique()\n",
    "dfs=[]\n",
    "for year in years:\n",
    "    dfs.append(df[df[\"year\"]==year])"
   ]
  },
  {
   "cell_type": "code",
   "execution_count": 0,
   "metadata": {
    "application/vnd.databricks.v1+cell": {
     "cellMetadata": {
      "byteLimit": 2048000,
      "rowLimit": 10000
     },
     "inputWidgets": {},
     "nuid": "d5300c71-f38e-4bac-ba92-8df8614a7b42",
     "showTitle": false,
     "title": ""
    }
   },
   "outputs": [],
   "source": [
    "layoff_c_dict ={}\n",
    "layoff_i_dict ={}\n",
    "funds_c_dict ={}\n",
    "funds_i_dict ={}\n",
    "\n",
    "for i in range(1,len(years)):\n",
    "    \n",
    "    sum_per_company = dfs[i].groupby(['company', 'industry'])['percentage_laid_off'].agg([\"sum\", \"std\"]).reset_index()\n",
    "    sum_per_company[\"std\"].fillna(0,inplace=True)\n",
    "    avg_per_category = sum_per_company.groupby(['industry'])['sum'].agg(['mean', 'std']).reset_index()\n",
    "    avg_per_category[\"std\"].fillna(0,inplace=True)\n",
    "    \n",
    "    layoff_c_dict[years[i]] = {\n",
    "       \n",
    "            company: (sum_value, std_value)\n",
    "            for company, sum_value, std_value in zip(sum_per_company['company'], sum_per_company['sum'], sum_per_company['std'])\n",
    "        }\n",
    "    \n",
    "    layoff_i_dict[years[i]]={\n",
    "            company: (sum_value, std_value)\n",
    "            for company, sum_value, std_value in zip(avg_per_category['industry'], avg_per_category['mean'], avg_per_category['std'])\n",
    "        }\n",
    "    \n",
    "  \n",
    "\n",
    "    funds_per_company = dfs[i].groupby(['company', 'industry'])['funds_raised'].agg([\"sum\", \"std\"]).reset_index()\n",
    "    funds_per_company[\"std\"].fillna(0,inplace=True)\n",
    "    avgf_per_category = funds_per_company.groupby(['industry'])['sum'].agg(['mean', 'std']).reset_index()\n",
    "    avgf_per_category[\"std\"].fillna(0,inplace=True)\n",
    "\n",
    "    funds_c_dict[years[i]] = {\n",
    "       \n",
    "            company: (sum_value, std_value)\n",
    "            for company, sum_value, std_value in zip(funds_per_company['company'], funds_per_company['sum'], funds_per_company['std'])\n",
    "        }\n",
    "    \n",
    "    funds_i_dict[years[i]]={\n",
    "            company: (sum_value, std_value)\n",
    "            for company, sum_value, std_value in zip(avgf_per_category['industry'], avgf_per_category['mean'], avgf_per_category['std'])\n",
    "        }"
   ]
  },
  {
   "cell_type": "code",
   "execution_count": 0,
   "metadata": {
    "application/vnd.databricks.v1+cell": {
     "cellMetadata": {
      "byteLimit": 2048000,
      "rowLimit": 10000
     },
     "inputWidgets": {},
     "nuid": "b264d9a6-5f63-43ea-8d4b-2a7b7e0038d8",
     "showTitle": false,
     "title": ""
    }
   },
   "outputs": [],
   "source": [
    "df2 =pd.read_csv(path_layoffs_3)\n",
    "df2[\"Percentage\"].fillna(0,inplace=True)\n",
    "df2[\"Funds_Raised\"].fillna(0,inplace=True)\n",
    "df2[\"Date\"] = df2[\"Date\"].convert_dtypes(convert_string=True)\n",
    "df2['year'] = df2['Date'].apply(lambda x: int(x.split('-')[0]))\n",
    "years = df2[\"year\"].unique()\n",
    "df2s=[]\n",
    "for year in years:\n",
    "    df2s.append(df2[df2[\"year\"]==year])"
   ]
  },
  {
   "cell_type": "code",
   "execution_count": 0,
   "metadata": {
    "application/vnd.databricks.v1+cell": {
     "cellMetadata": {
      "byteLimit": 2048000,
      "rowLimit": 10000
     },
     "inputWidgets": {},
     "nuid": "6cc4485a-fad2-4b01-9b38-e20d52c6e0db",
     "showTitle": false,
     "title": ""
    }
   },
   "outputs": [],
   "source": [
    "layoff_c_dict2 ={}\n",
    "layoff_i_dict2 ={}\n",
    "funds_c_dict2 ={}\n",
    "funds_i_dict2 ={}\n",
    "\n",
    "for i in range(1,len(years)):\n",
    "    \n",
    "    sum_per_company = df2s[i].groupby(['Company', 'Industry'])['Percentage'].agg([\"sum\", \"std\"]).reset_index()\n",
    "    sum_per_company[\"std\"].fillna(0,inplace=True)\n",
    "    avg_per_category = sum_per_company.groupby(['Industry'])['sum'].agg(['mean', 'std']).reset_index()\n",
    "    avg_per_category[\"std\"].fillna(0,inplace=True)\n",
    "    \n",
    "    layoff_c_dict2[years[i]] = {\n",
    "       \n",
    "            company: (sum_value, std_value)\n",
    "            for company, sum_value, std_value in zip(sum_per_company['Company'], sum_per_company['sum'], sum_per_company['std'])\n",
    "        }\n",
    "    \n",
    "    layoff_i_dict2[years[i]]={\n",
    "            company: (sum_value, std_value)\n",
    "            for company, sum_value, std_value in zip(avg_per_category['Industry'], avg_per_category['mean'], avg_per_category['std'])\n",
    "        }\n",
    "    \n",
    "    \n",
    "    funds_per_company = df2s[i].groupby(['Company', 'Industry'])['Funds_Raised'].agg([\"sum\", \"std\"]).reset_index()\n",
    "    funds_per_company[\"std\"].fillna(0,inplace=True)\n",
    "    avgf_per_category = funds_per_company.groupby(['Industry'])['sum'].agg(['mean', 'std']).reset_index()\n",
    "    avgf_per_category[\"std\"].fillna(0,inplace=True)\n",
    "    funds_c_dict2[years[i]] = {\n",
    "       \n",
    "            company: (sum_value, std_value)\n",
    "            for company, sum_value, std_value in zip(funds_per_company['Company'], funds_per_company['sum'], funds_per_company['std'])\n",
    "        }\n",
    "    \n",
    "    funds_i_dict2[years[i]]={\n",
    "            company: (sum_value, std_value)\n",
    "            for company, sum_value, std_value in zip(avgf_per_category['Industry'], avgf_per_category['mean'], avgf_per_category['std'])\n",
    "        }"
   ]
  },
  {
   "cell_type": "code",
   "execution_count": 0,
   "metadata": {
    "application/vnd.databricks.v1+cell": {
     "cellMetadata": {
      "byteLimit": 2048000,
      "rowLimit": 10000
     },
     "inputWidgets": {},
     "nuid": "e3738a4b-f0c0-499e-9f78-270540f34cf2",
     "showTitle": false,
     "title": ""
    }
   },
   "outputs": [
    {
     "output_type": "stream",
     "name": "stdout",
     "output_type": "stream",
     "text": [
      "industries layoffs mean/std average\n{2020: [0.20619836625802523, 0.26098933197440355], 2021: [0.3038888888888889, 0.14210148815249413], 2022: [0.20316824479417647, 0.2508246863514752], 2023: [0.18387350828582089, 0.2570462142727365]}\n\nindustries funds mean/std average\n{2020: [420.7364636083245, 1237.8320987703908], 2021: [756.2472222222223, 812.0908321449971], 2022: [960.9664805453885, 3819.3012106737433], 2023: [567.4606591697263, 1269.5590292229847]}\n"
     ]
    }
   ],
   "source": [
    "avg_i_layoff_vals = {2020: [], 2021: [], 2022: [], 2023: []}\n",
    "avg_i_funds_vals = {2020: [], 2021: [], 2022: [], 2023: []}\n",
    "\n",
    "for year in [2020, 2021, 2022, 2023]:\n",
    "  tot_mean, tot_std = 0, 0\n",
    "  counter = 0\n",
    "  for key in  layoff_i_dict2[year]:\n",
    "    mean, std = layoff_i_dict2[year][key]\n",
    "    tot_mean += mean\n",
    "    tot_std += std\n",
    "    counter += 1\n",
    "  avg_i_layoff_vals[year] = [tot_mean / counter, tot_std / counter]\n",
    "\n",
    "for year in [2020, 2021, 2022, 2023]:\n",
    "  tot_mean, tot_std = 0, 0\n",
    "  counter = 0\n",
    "  for key in  funds_i_dict2[year]:\n",
    "    mean, std = funds_i_dict2[year][key]\n",
    "    tot_mean += mean\n",
    "    tot_std += std\n",
    "    counter += 1\n",
    "  avg_i_funds_vals[year] = [tot_mean / counter, tot_std / counter]\n",
    "\n",
    "print('industries layoffs mean/std average')\n",
    "print(avg_i_layoff_vals)\n",
    "print()\n",
    "print('industries funds mean/std average')\n",
    "print(avg_i_funds_vals)"
   ]
  },
  {
   "cell_type": "code",
   "execution_count": 0,
   "metadata": {
    "application/vnd.databricks.v1+cell": {
     "cellMetadata": {
      "byteLimit": 2048000,
      "rowLimit": 10000
     },
     "inputWidgets": {},
     "nuid": "0807cc98-4e48-458a-aecf-610314e1eec9",
     "showTitle": false,
     "title": ""
    }
   },
   "outputs": [
    {
     "output_type": "stream",
     "name": "stdout",
     "output_type": "stream",
     "text": [
      "companies layoffs mean/std average\n{2020: [0.21578749999999994, 0.005419328652841721], 2021: [0.25534883720930235, 0.0], 2022: [0.19206103286384973, 0.013490211575772477], 2023: [0.20006711409395972, 0.009846424262391736]}\n\ncompanies funds mean/std average\n{2020: [540.2476591666666, 17.486825281709592], 2021: [924.9697674418604, 32.88868749704872], 2022: [1025.649765258216, 5.284031887034765], 2023: [675.2553691275168, 0.5823784336754331]}\n"
     ]
    }
   ],
   "source": [
    "avg_c_layoff_vals = {2020: [], 2021: [], 2022: [], 2023: []}\n",
    "avg_c_funds_vals = {2020: [], 2021: [], 2022: [], 2023: []}\n",
    "\n",
    "for year in [2020, 2021, 2022, 2023]:\n",
    "  tot_mean, tot_std = 0, 0\n",
    "  counter = 0\n",
    "  for key in  layoff_c_dict2[year]:\n",
    "    mean, std = layoff_c_dict2[year][key]\n",
    "    tot_mean += mean\n",
    "    tot_std += std\n",
    "    counter += 1\n",
    "  avg_c_layoff_vals[year] = [tot_mean / counter, tot_std / counter]\n",
    "\n",
    "for year in [2020, 2021, 2022, 2023]:\n",
    "  tot_mean, tot_std = 0, 0\n",
    "  counter = 0\n",
    "  for key in  funds_c_dict2[year]:\n",
    "    mean, std = funds_c_dict2[year][key]\n",
    "    tot_mean += mean\n",
    "    tot_std += std\n",
    "    counter += 1\n",
    "  avg_c_funds_vals[year] = [tot_mean / counter, tot_std / counter]\n",
    "\n",
    "print('companies layoffs mean/std average')\n",
    "print(avg_c_layoff_vals)\n",
    "print()\n",
    "print('companies funds mean/std average')\n",
    "print(avg_c_funds_vals)"
   ]
  },
  {
   "cell_type": "code",
   "execution_count": 0,
   "metadata": {
    "application/vnd.databricks.v1+cell": {
     "cellMetadata": {
      "byteLimit": 2048000,
      "rowLimit": 10000
     },
     "inputWidgets": {},
     "nuid": "bb7f8a77-a707-43c8-81bc-de4a28e9c3ad",
     "showTitle": false,
     "title": ""
    }
   },
   "outputs": [],
   "source": [
    "# # Save dictionaries\n",
    "# with open('layoff_industries.pickle', 'wb') as pickle_file:\n",
    "#     pickle.dump(layoff_i_dict2, pickle_file)\n",
    "\n",
    "# with open('funds_industries.pickle', 'wb') as pickle_file:\n",
    "#     pickle.dump(funds_i_dict2, pickle_file)"
   ]
  },
  {
   "cell_type": "code",
   "execution_count": 0,
   "metadata": {
    "application/vnd.databricks.v1+cell": {
     "cellMetadata": {
      "byteLimit": 2048000,
      "rowLimit": 10000
     },
     "inputWidgets": {},
     "nuid": "e0bded4e-2e57-45a4-a944-066b9c2526ae",
     "showTitle": false,
     "title": ""
    }
   },
   "outputs": [
    {
     "output_type": "stream",
     "name": "stdout",
     "output_type": "stream",
     "text": [
      "all industries: \n{'Fitness', 'Manufacturing', 'AI', 'Product', 'Construction', 'Marketing', 'Energy', 'Education', 'Other', 'Media', 'Data', 'Legal', 'Sales', 'Support', 'Unknown', 'Retail', 'Finance', 'Crypto', 'Security', 'Healthcare', 'Hardware', 'Aerospace', 'Travel', 'Recruiting', 'HR', 'Consumer', 'Infrastructure', 'Food', 'Real Estate', 'Transportation', 'Logistics'}\n"
     ]
    }
   ],
   "source": [
    "all_industries = set()\n",
    "\n",
    "for y in layoff_i_dict2:\n",
    "    for k in layoff_i_dict2[y]:\n",
    "        all_industries.add(k)\n",
    "for y in funds_i_dict2:\n",
    "    for k in funds_i_dict2[y]:\n",
    "        all_industries.add(k)\n",
    "print(\"all industries: \")\n",
    "print(all_industries)"
   ]
  },
  {
   "cell_type": "markdown",
   "metadata": {
    "application/vnd.databricks.v1+cell": {
     "cellMetadata": {
      "byteLimit": 2048000,
      "rowLimit": 10000
     },
     "inputWidgets": {},
     "nuid": "4d42ca20-9ab1-46dc-a2b6-83e4321112e2",
     "showTitle": false,
     "title": ""
    }
   },
   "source": [
    "### Last Year Companies Data"
   ]
  },
  {
   "cell_type": "code",
   "execution_count": 0,
   "metadata": {
    "application/vnd.databricks.v1+cell": {
     "cellMetadata": {
      "byteLimit": 2048000,
      "rowLimit": 10000
     },
     "inputWidgets": {},
     "nuid": "e7f5e96e-c50e-4e41-843d-33a01a5d5d81",
     "showTitle": false,
     "title": ""
    }
   },
   "outputs": [],
   "source": [
    "\n",
    "# picking colums to fetsure by code\n",
    "number_col=[]\n",
    "# len languages ,education ,certifications ,posts , сourses\n",
    "nullable_col =[]\n",
    "uniquent_col =[]\n",
    "# Loop through each column in the 'companies' DataFrame\n",
    "nnull_count ={}\n",
    "for column in companies.columns:\n",
    "    # Count the number of non-null values in the column\n",
    "    non_null_count = companies.filter(companies[column].isNotNull()).count()\n",
    "    # Print the column name and count of non-null values\n",
    "    #print(f\"null count of {column}: {non_null_count}\")\n",
    "    nnull_count[column] =non_null_count\n",
    "    if non_null_count >10000 and non_null_count <1200000: # between 10k and 2m\n",
    "        nullable_col.append(column)\n",
    "uni_count={}\n",
    "# Loop through each column in the 'companies' DataFrame\n",
    "for column in companies.columns:\n",
    "    #print(companies.select(column).schema[0].dataType)\n",
    "    if companies.select(column).schema[0].dataType != StringType():\n",
    "        continue\n",
    "    # Count the number of unique values in the column\n",
    "    unique_count = companies.select(column).distinct().count()\n",
    "    # Print the column name and number of unique values\n",
    "    #print(f\"uniquie count of {column}: {unique_count}\")\n",
    "    uni_count[column] = unique_count\n",
    "    if nnull_count[column]  > 10000:\n",
    "        if unique_count >2 and unique_count <1000:\n",
    "            uniquent_col.append(column)"
   ]
  },
  {
   "cell_type": "code",
   "execution_count": 0,
   "metadata": {
    "application/vnd.databricks.v1+cell": {
     "cellMetadata": {
      "byteLimit": 2048000,
      "rowLimit": 10000
     },
     "inputWidgets": {},
     "nuid": "932491bc-af3f-4f5a-aca6-98451f498e6b",
     "showTitle": false,
     "title": ""
    }
   },
   "outputs": [
    {
     "output_type": "display_data",
     "data": {
      "text/plain": [
       "\u001B[0;31m---------------------------------------------------------------------------\u001B[0m\n",
       "\u001B[0;31mTypeError\u001B[0m                                 Traceback (most recent call last)\n",
       "\u001B[0;32m<command-3791678015593155>\u001B[0m in \u001B[0;36m<cell line: 9>\u001B[0;34m()\u001B[0m\n",
       "\u001B[1;32m      7\u001B[0m \u001B[0munique_company_ids_df\u001B[0m \u001B[0;34m=\u001B[0m \u001B[0mspark\u001B[0m\u001B[0;34m.\u001B[0m\u001B[0mcreateDataFrame\u001B[0m\u001B[0;34m(\u001B[0m\u001B[0;34m[\u001B[0m\u001B[0;34m(\u001B[0m\u001B[0mid2\u001B[0m\u001B[0;34m.\u001B[0m\u001B[0mcompany_id\u001B[0m\u001B[0;34m,\u001B[0m\u001B[0;34m)\u001B[0m \u001B[0;32mfor\u001B[0m \u001B[0mid2\u001B[0m \u001B[0;32min\u001B[0m \u001B[0munique_company_ids\u001B[0m\u001B[0;34m]\u001B[0m\u001B[0;34m,\u001B[0m \u001B[0;34m[\u001B[0m\u001B[0;34m'id2'\u001B[0m\u001B[0;34m]\u001B[0m\u001B[0;34m)\u001B[0m\u001B[0;34m\u001B[0m\u001B[0;34m\u001B[0m\u001B[0m\n",
       "\u001B[1;32m      8\u001B[0m \u001B[0;31m# Join the unique_company_ids_df with companies_features DataFrame to filter based on the ids\u001B[0m\u001B[0;34m\u001B[0m\u001B[0;34m\u001B[0m\u001B[0;34m\u001B[0m\u001B[0m\n",
       "\u001B[0;32m----> 9\u001B[0;31m \u001B[0mfiltered_df\u001B[0m \u001B[0;34m=\u001B[0m \u001B[0mcompanies_features\u001B[0m\u001B[0;34m.\u001B[0m\u001B[0mjoin\u001B[0m\u001B[0;34m(\u001B[0m\u001B[0munique_company_ids_df\u001B[0m\u001B[0;34m,\u001B[0m \u001B[0mon\u001B[0m\u001B[0;34m=\u001B[0m\u001B[0mcol\u001B[0m\u001B[0;34m(\u001B[0m\u001B[0;34m'id'\u001B[0m\u001B[0;34m)\u001B[0m \u001B[0;34m==\u001B[0m \u001B[0mcol\u001B[0m\u001B[0;34m(\u001B[0m\u001B[0;34m'id2'\u001B[0m\u001B[0;34m)\u001B[0m\u001B[0;34m)\u001B[0m\u001B[0;34m.\u001B[0m\u001B[0mdrop\u001B[0m\u001B[0;34m(\u001B[0m\u001B[0;34m\"id2\"\u001B[0m\u001B[0;34m)\u001B[0m\u001B[0;34m\u001B[0m\u001B[0;34m\u001B[0m\u001B[0m\n",
       "\u001B[0m\n",
       "\u001B[0;31mTypeError\u001B[0m: 'str' object is not callable"
      ]
     },
     "metadata": {
      "application/vnd.databricks.v1+output": {
       "arguments": {},
       "data": "\u001B[0;31m---------------------------------------------------------------------------\u001B[0m\n\u001B[0;31mTypeError\u001B[0m                                 Traceback (most recent call last)\n\u001B[0;32m<command-3791678015593155>\u001B[0m in \u001B[0;36m<cell line: 9>\u001B[0;34m()\u001B[0m\n\u001B[1;32m      7\u001B[0m \u001B[0munique_company_ids_df\u001B[0m \u001B[0;34m=\u001B[0m \u001B[0mspark\u001B[0m\u001B[0;34m.\u001B[0m\u001B[0mcreateDataFrame\u001B[0m\u001B[0;34m(\u001B[0m\u001B[0;34m[\u001B[0m\u001B[0;34m(\u001B[0m\u001B[0mid2\u001B[0m\u001B[0;34m.\u001B[0m\u001B[0mcompany_id\u001B[0m\u001B[0;34m,\u001B[0m\u001B[0;34m)\u001B[0m \u001B[0;32mfor\u001B[0m \u001B[0mid2\u001B[0m \u001B[0;32min\u001B[0m \u001B[0munique_company_ids\u001B[0m\u001B[0;34m]\u001B[0m\u001B[0;34m,\u001B[0m \u001B[0;34m[\u001B[0m\u001B[0;34m'id2'\u001B[0m\u001B[0;34m]\u001B[0m\u001B[0;34m)\u001B[0m\u001B[0;34m\u001B[0m\u001B[0;34m\u001B[0m\u001B[0m\n\u001B[1;32m      8\u001B[0m \u001B[0;31m# Join the unique_company_ids_df with companies_features DataFrame to filter based on the ids\u001B[0m\u001B[0;34m\u001B[0m\u001B[0;34m\u001B[0m\u001B[0;34m\u001B[0m\u001B[0m\n\u001B[0;32m----> 9\u001B[0;31m \u001B[0mfiltered_df\u001B[0m \u001B[0;34m=\u001B[0m \u001B[0mcompanies_features\u001B[0m\u001B[0;34m.\u001B[0m\u001B[0mjoin\u001B[0m\u001B[0;34m(\u001B[0m\u001B[0munique_company_ids_df\u001B[0m\u001B[0;34m,\u001B[0m \u001B[0mon\u001B[0m\u001B[0;34m=\u001B[0m\u001B[0mcol\u001B[0m\u001B[0;34m(\u001B[0m\u001B[0;34m'id'\u001B[0m\u001B[0;34m)\u001B[0m \u001B[0;34m==\u001B[0m \u001B[0mcol\u001B[0m\u001B[0;34m(\u001B[0m\u001B[0;34m'id2'\u001B[0m\u001B[0;34m)\u001B[0m\u001B[0;34m)\u001B[0m\u001B[0;34m.\u001B[0m\u001B[0mdrop\u001B[0m\u001B[0;34m(\u001B[0m\u001B[0;34m\"id2\"\u001B[0m\u001B[0;34m)\u001B[0m\u001B[0;34m\u001B[0m\u001B[0;34m\u001B[0m\u001B[0m\n\u001B[0m\n\u001B[0;31mTypeError\u001B[0m: 'str' object is not callable",
       "errorSummary": "<span class='ansi-red-fg'>TypeError</span>: 'str' object is not callable",
       "errorTraceType": "ansi",
       "metadata": {},
       "type": "ipynbError"
      }
     },
     "output_type": "display_data"
    }
   ],
   "source": [
    "col_to_feature = uniquent_col\n",
    "other_col = nullable_col\n",
    "companies_features = companies\n",
    "companies_features = companies\n",
    "# Select all unique values in current_company:company_id from profiles DF\n",
    "unique_company_ids = profiles.select(\"current_company.company_id\").distinct().collect()\n",
    "unique_company_ids_df = spark.createDataFrame([(id2.company_id,) for id2 in unique_company_ids], ['id2'])\n",
    "# Join the unique_company_ids_df with companies_features DataFrame to filter based on the ids\n",
    "filtered_df = companies_features.join(unique_company_ids_df, on=col('id') == col('id2')).drop(\"id2\")"
   ]
  },
  {
   "cell_type": "code",
   "execution_count": 0,
   "metadata": {
    "application/vnd.databricks.v1+cell": {
     "cellMetadata": {
      "byteLimit": 2048000,
      "rowLimit": 10000
     },
     "inputWidgets": {},
     "nuid": "1934845a-7b7e-46a9-b128-71126a22910d",
     "showTitle": false,
     "title": ""
    }
   },
   "outputs": [],
   "source": [
    "from pyspark.ml.feature import StringIndexer\n",
    "from pyspark.sql.functions import concat_ws\n",
    "from pyspark.ml.feature import OneHotEncoder\n",
    "from pyspark.sql.functions import col, when"
   ]
  },
  {
   "cell_type": "code",
   "execution_count": 0,
   "metadata": {
    "application/vnd.databricks.v1+cell": {
     "cellMetadata": {
      "byteLimit": 2048000,
      "rowLimit": 10000
     },
     "inputWidgets": {},
     "nuid": "207752ce-a6c7-46e4-90dd-27691be65a4b",
     "showTitle": false,
     "title": ""
    }
   },
   "outputs": [],
   "source": [
    "for coll in col_to_feature:\n",
    "    # Replace 'column_name' with the actual name of the column\n",
    "    companies_features = companies_features.withColumn(coll, companies_features[coll].cast(\"string\"))\n",
    "    indexer = StringIndexer(inputCol=str(coll), outputCol=coll+\"_index\", handleInvalid=\"skip\")\n",
    "    companies_features = indexer.fit(companies_features).transform(companies_features)\n",
    "    #companies_features= companies_features.drop(coll ,coll+\"_index\")\n",
    "\n",
    "for col_name in other_col:\n",
    "    companies_features = companies_features.withColumn(col_name + \"_is_null\", when(col(col_name).isNull(), 1).otherwise(0))\n"
   ]
  },
  {
   "cell_type": "code",
   "execution_count": 0,
   "metadata": {
    "application/vnd.databricks.v1+cell": {
     "cellMetadata": {
      "byteLimit": 2048000,
      "rowLimit": 10000
     },
     "inputWidgets": {},
     "nuid": "71fe4874-40bc-4bdc-841f-d05d10cc95ba",
     "showTitle": false,
     "title": ""
    }
   },
   "outputs": [],
   "source": [
    "# Get all column names in companies DataFrame\n",
    "all_columns = companies.columns\n",
    "\n",
    "# Remove column names in col_to_keep from all_columns\n",
    "remaining_columns = [col for col in all_columns if col not in col_to_keep]\n",
    "\n",
    "# Drop the old columns from companies_features DataFrame\n",
    "companies_features = companies_features.drop(*remaining_columns)"
   ]
  },
  {
   "cell_type": "code",
   "execution_count": 0,
   "metadata": {
    "application/vnd.databricks.v1+cell": {
     "cellMetadata": {
      "byteLimit": 2048000,
      "rowLimit": 10000
     },
     "inputWidgets": {},
     "nuid": "d57e2b97-f0ab-445f-b3f2-c0ebf6feed1e",
     "showTitle": false,
     "title": ""
    }
   },
   "outputs": [],
   "source": [
    "# Create an empty dictionary\n",
    "year_dict = {}\n",
    "\n",
    "# Iterate over each row in the filtered_df DataFrame\n",
    "for row in companies_features.collect():\n",
    "    # Get the year from the timestamp column\n",
    "    year = row['timestamp'][:4]\n",
    "    \n",
    "    # Get the company id\n",
    "    company_id = row['id']\n",
    "    \n",
    "    # Get the vector of all other columns for the company\n",
    "    vector = [row[column] for column in companies_features.columns if (column != 'id' and column != 'timestamp')]\n",
    "    \n",
    "    # Update the year_dict with the company id and vector\n",
    "    if year not in year_dict:\n",
    "        year_dict[year] = {}\n",
    "    year_dict[year][company_id] = vector\n"
   ]
  },
  {
   "cell_type": "code",
   "execution_count": 0,
   "metadata": {
    "application/vnd.databricks.v1+cell": {
     "cellMetadata": {
      "byteLimit": 2048000,
      "rowLimit": 10000
     },
     "inputWidgets": {},
     "nuid": "be36cdb0-11ae-4d29-912f-c2f032934594",
     "showTitle": false,
     "title": ""
    }
   },
   "outputs": [],
   "source": [
    "\n",
    "# Generate Python code to create a dictionary where the 'id' column is the key and the 'industries' column is the value\n",
    "meta_industries_12 = {\n",
    "    'Furniture and Home Furnishings Manufacturing': 'Manufacturing',\n",
    "    'Investment Banking': 'Financial and Investment',\n",
    "    'Architecture and Planning': 'Services',\n",
    "    'Wholesale': 'Services',\n",
    "    'Travel Arrangements': 'Services',\n",
    "    'Ranching': 'Miscellaneous',\n",
    "    'Hospitals and Health Care': 'Healthcare and Medical',\n",
    "    'Book and Periodical Publishing': 'Services',\n",
    "    'Printing Services': 'Services',\n",
    "    'Professional Training and Coaching': 'Services',\n",
    "    'Computers and Electronics Manufacturing': 'Manufacturing',\n",
    "    'Shipbuilding': 'Manufacturing',\n",
    "    'Public Policy Offices': 'Government and Public Policy',\n",
    "    'Software Development': 'Technology',\n",
    "    'Outsourcing and Offshoring Consulting': 'Services',\n",
    "    'Retail Groceries': 'Retail and Consumer Goods',\n",
    "    'Education Administration Programs': 'Education and Training',\n",
    "    'Plastics Manufacturing': 'Manufacturing',\n",
    "    'Renewable Energy Semiconductor Manufacturing': 'Manufacturing',\n",
    "    'Computer Networking Products': 'Technology',\n",
    "    'Events Services': 'Services',\n",
    "    'Information Services': 'Services',\n",
    "    'Food and Beverage Services': 'Services',\n",
    "    'Semiconductor Manufacturing': 'Manufacturing',\n",
    "    'Business Consulting and Services': 'Services',\n",
    "    'Insurance': 'Services',\n",
    "    'Financial Services': 'Services',\n",
    "    'Wireless Services': 'Services',\n",
    "    'Computer Hardware Manufacturing': 'Technology',\n",
    "    'Public Safety': 'Services',\n",
    "    'Maritime Transportation': 'Transportation and Logistics',\n",
    "    'Tobacco Manufacturing': 'Manufacturing',\n",
    "    'Writing and Editing': 'Services',\n",
    "    'Veterinary Services': 'Services',\n",
    "    'Staffing and Recruiting': 'Services',\n",
    "    'Accounting': 'Services',\n",
    "    'International Affairs': 'Government and Public Policy',\n",
    "    'Spectator Sports': 'Miscellaneous',\n",
    "    'Glass, Ceramics and Concrete Manufacturing': 'Manufacturing',\n",
    "    'Chemical Manufacturing': 'Manufacturing',\n",
    "    'Mining': 'Miscellaneous',\n",
    "    'E-Learning Providers': 'Technology',\n",
    "    'Security and Investigations': 'Services',\n",
    "    'Translation and Localization': 'Services',\n",
    "    'Automation Machinery Manufacturing': 'Technology',\n",
    "    'Computer and Network Security': 'Technology',\n",
    "    'Political Organizations': 'Government and Public Policy',\n",
    "    'Environmental Services': 'Government and Public Policy',\n",
    "    'Oil and Gas': 'Miscellaneous',\n",
    "    'Real Estate': 'Real Estate and Construction',\n",
    "    'Think Tanks': 'Government and Public Policy',\n",
    "    'Executive Offices': 'Miscellaneous',\n",
    "    'Law Practice': 'Services',\n",
    "    'Nanotechnology Research': 'Miscellaneous',\n",
    "    'International Trade and Development': 'Government and Public Policy',\n",
    "    'Personal Care Product Manufacturing': 'Manufacturing',\n",
    "    'Philanthropic Fundraising Services': 'Services',\n",
    "    'Entertainment Providers': 'Media and Entertainment',\n",
    "    'Market Research': 'Media and Entertainment',\n",
    "    'Movies, Videos, and Sound': 'Media and Entertainment',\n",
    "    'Sporting Goods Manufacturing': 'Manufacturing',\n",
    "    'Graphic Design': 'Services',\n",
    "    'Technology, Information and Internet': 'Technology',\n",
    "    'IT Services and IT Consulting': 'Technology',\n",
    "    'Retail Office Equipment': 'Retail and Consumer Goods',\n",
    "    'Wholesale Import and Export': 'Services',\n",
    "    'Capital Markets': 'Financial and Investment',\n",
    "    'Law Enforcement': 'Services',\n",
    "    'Freight and Package Transportation': 'Transportation and Logistics',\n",
    "    'Industrial Machinery Manufacturing': 'Manufacturing',\n",
    "    'Non-profit Organizations': 'Miscellaneous',\n",
    "    'Retail Art Supplies': 'Retail and Consumer Goods',\n",
    "    'Animation and Post-production': 'Media and Entertainment',\n",
    "    'Transportation, Logistics, Supply Chain and Storage': 'Transportation and Logistics',\n",
    "    'Aviation and Aerospace Component Manufacturing': 'Transportation and Logistics',\n",
    "    'Fundraising': 'Financial and Investment',\n",
    "    'Railroad Equipment Manufacturing': 'Transportation and Logistics',\n",
    "    'Construction': 'Real Estate and Construction',\n",
    "    'Investment Management': 'Financial and Investment',\n",
    "    'Utilities': 'Miscellaneous',\n",
    "    'Retail Luxury Goods and Jewelry': 'Retail and Consumer Goods',\n",
    "    'Warehousing and Storage': 'Transportation and Logistics',\n",
    "    'Media Production': 'Media and Entertainment',\n",
    "    'Gambling Facilities and Casinos': 'Media and Entertainment',\n",
    "    'Defense and Space Manufacturing': 'Manufacturing',\n",
    "    'Facilities Services': 'Services',\n",
    "    'Government Relations Services': 'Government and Public Policy',\n",
    "    'Advertising Services': 'Media and Entertainment',\n",
    "    'Paper and Forest Product Manufacturing': 'Manufacturing',\n",
    "    'Packaging and Containers Manufacturing': 'Manufacturing',\n",
    "    'Telecommunications': 'Technology',\n",
    "    'Medical Equipment Manufacturing': 'Healthcare and Medical',\n",
    "    'Beverage Manufacturing': 'Manufacturing',\n",
    "    'Restaurants': 'Retail and Consumer Goods',\n",
    "    'Leasing Non-residential Real Estate': 'Real Estate and Construction',\n",
    "    'Newspaper Publishing': 'Media and Entertainment',\n",
    "    'Armed Forces': 'Miscellaneous',\n",
    "    'Appliances, Electrical, and Electronics Manufacturing': 'Manufacturing',\n",
    "    'Hospitality': 'Services',\n",
    "    'Pharmaceutical Manufacturing': 'Healthcare and Medical',\n",
    "    'Research Services': 'Services',\n",
    "    'Retail Apparel and Fashion': 'Retail and Consumer Goods',\n",
    "    'Photography': 'Media and Entertainment',\n",
    "    'Wellness and Fitness Services': 'Services',\n",
    "    'Truck Transportation': 'Transportation and Logistics',\n",
    "    'Consumer Services': 'Services',\n",
    "    'Wholesale Building Materials': 'Services',\n",
    "    'Human Resources Services': 'Services',\n",
    "    'Airlines and Aviation': 'Transportation and Logistics',\n",
    "    'Machinery Manufacturing': 'Manufacturing',\n",
    "    'Individual and Family Services': 'Services',\n",
    "    'Motor Vehicle Manufacturing': 'Manufacturing',\n",
    "    'Performing Arts': 'Media and Entertainment',\n",
    "    'Museums, Historical Sites, and Zoos': 'Media and Entertainment',\n",
    "    'Broadcast Media Production and Distribution': 'Media and Entertainment',\n",
    "    'Banking': 'Financial and Investment',\n",
    "    'Recreational Facilities': 'Miscellaneous',\n",
    "    'Government Administration': 'Government and Public Policy',\n",
    "    'Public Relations and Communications Services': 'Media and Entertainment',\n",
    "    'Fisheries': 'Miscellaneous',\n",
    "    'Medical Practices': 'Healthcare and Medical',\n",
    "    'Religious Institutions': 'Miscellaneous',\n",
    "    'Online Audio and Video Media': 'Media and Entertainment',\n",
    "    'Artists and Writers': 'Miscellaneous',\n",
    "    'Biotechnology Research': 'Healthcare and Medical',\n",
    "    'Legal Services': 'Services',\n",
    "    'Retail': 'Retail and Consumer Goods',\n",
    "    'Civil Engineering': 'Services',\n",
    "    'Libraries': 'Miscellaneous',\n",
    "    'Alternative Dispute Resolution': 'Miscellaneous',\n",
    "    'Manufacturing': 'Miscellaneous',\n",
    "    'Design Services': 'Services',\n",
    "    'Dairy Product Manufacturing': 'Manufacturing',\n",
    "    'Higher Education': 'Education and Training',\n",
    "    'Civic and Social Organizations': 'Miscellaneous',\n",
    "    'Textile Manufacturing': 'Manufacturing',\n",
    "    'Venture Capital and Private Equity Principals': 'Financial and Investment',\n",
    "    'Mental Health Care': 'Healthcare and Medical',\n",
    "    'Musicians': 'Media and Entertainment',\n",
    "    'Farming': 'Miscellaneous',\n",
    "    'Computer Games': 'Media and Entertainment',\n",
    "    'Strategic Management Services': 'Services',\n",
    "    'Food and Beverage Manufacturing': 'Manufacturing',\n",
    "    'Primary and Secondary Education': 'Education and Training',\n",
    "    'Alternative Medicine': 'Healthcare and Medical',\n",
    "    'Legislative Offices': 'Services',\n",
    "    'Administration of Justice': 'Services',\n",
    "    'Mobile Gaming Apps': 'Media and Entertainment'\n",
    "}\n",
    "companies_industry = companies.select('id', 'industries').rdd.collectAsMap()\n",
    "companies_meta_industry={}\n",
    "for key in companies_industry:\n",
    "    companies_meta_industry[key]= None if not companies_industry[key] else meta_industries_12[companies_industry[key]]"
   ]
  },
  {
   "cell_type": "code",
   "execution_count": 0,
   "metadata": {
    "application/vnd.databricks.v1+cell": {
     "cellMetadata": {
      "byteLimit": 2048000,
      "rowLimit": 10000
     },
     "inputWidgets": {},
     "nuid": "c8df4e22-24fe-43ae-982d-9894bb87ed3a",
     "showTitle": false,
     "title": ""
    }
   },
   "outputs": [],
   "source": [
    "from collections import Counter\n",
    "num_of_f= len(year_dict['2023']['bluestardistributorsinc'])"
   ]
  },
  {
   "cell_type": "code",
   "execution_count": 0,
   "metadata": {
    "application/vnd.databricks.v1+cell": {
     "cellMetadata": {
      "byteLimit": 2048000,
      "rowLimit": 10000
     },
     "inputWidgets": {},
     "nuid": "2b66c37e-82e3-4bc6-805f-dda7ac713a75",
     "showTitle": false,
     "title": ""
    }
   },
   "outputs": [],
   "source": [
    "meta_count ={}\n",
    "companies_feat_dict = year_dict['2023']\n",
    "for key in companies_meta_industry:\n",
    "    meta_ind = companies_meta_industry[key]\n",
    "    if not meta_ind:\n",
    "        continue \n",
    "    if key not in companies_feat_dict:\n",
    "        continue\n",
    "    if meta_ind not in meta_count:\n",
    "        meta_count[meta_ind] =[0,[Counter() for _ in range(5)] ,[0 for _ in range(num_of_f-5)] ]\n",
    "    for i in range(num_of_f):\n",
    "        meta_count[meta_ind][0]+=1\n",
    "        if i <5:\n",
    "            if companies_feat_dict[key][i]:\n",
    "                meta_count[meta_ind][1][i]+=  Counter([companies_feat_dict[key][i]])\n",
    "        else:\n",
    "            meta_count[meta_ind][2][i-5]+=companies_feat_dict[key][i]"
   ]
  },
  {
   "cell_type": "code",
   "execution_count": 0,
   "metadata": {
    "application/vnd.databricks.v1+cell": {
     "cellMetadata": {
      "byteLimit": 2048000,
      "rowLimit": 10000
     },
     "inputWidgets": {},
     "nuid": "161f42f9-8234-4918-9f2b-df27c610a353",
     "showTitle": false,
     "title": ""
    }
   },
   "outputs": [],
   "source": [
    "meta_featsure ={}\n",
    "for ind in meta_count:\n",
    "    new_feat=[]\n",
    "    for i in range(num_of_f):\n",
    "        if i <5:\n",
    "            new_feat.append(max(meta_count[meta_ind][1][i], key=meta_count[meta_ind][1][i].get))\n",
    "        else:\n",
    "            new_feat.append(meta_count[meta_ind][2][i-5] / meta_count[meta_ind][0])\n",
    "    meta_featsure[ind] = new_feat"
   ]
  },
  {
   "cell_type": "code",
   "execution_count": 0,
   "metadata": {
    "application/vnd.databricks.v1+cell": {
     "cellMetadata": {
      "byteLimit": 2048000,
      "rowLimit": 10000
     },
     "inputWidgets": {},
     "nuid": "2be948f4-5d15-4931-91d4-c1abd0eead0f",
     "showTitle": false,
     "title": ""
    }
   },
   "outputs": [
    {
     "output_type": "stream",
     "name": "stdout",
     "output_type": "stream",
     "text": [
      "Out[123]: [2.0,\n 9.0,\n 1.0,\n 12.0,\n 1.0,\n 0.0028876384784574075,\n 0.025311815479001652,\n 0.0,\n 0.0,\n 0.02716943960922425,\n 0.027500033734094376,\n 0.0,\n 0.0,\n 0.004560849559432727]"
     ]
    }
   ],
   "source": [
    "meta_featsure['Real Estate and Construction']"
   ]
  },
  {
   "cell_type": "code",
   "execution_count": 0,
   "metadata": {
    "application/vnd.databricks.v1+cell": {
     "cellMetadata": {},
     "inputWidgets": {},
     "nuid": "08beb9ae-d18c-4527-a679-0e70a8ecc007",
     "showTitle": false,
     "title": ""
    }
   },
   "outputs": [],
   "source": [
    "industry_mapping = {\n",
    "    'Education and Training': 'Education',\n",
    "    'Financial and Investment': 'Finance',\n",
    "    'Government and Public Policy': 'Legal', \n",
    "    'Healthcare and Medical': 'Healthcare',\n",
    "    'Manufacturing': 'Manufacturing',\n",
    "    'Media and Entertainment': 'Media',\n",
    "    'Miscellaneous': 'Other', \n",
    "    'Real Estate and Construction': 'Construction', \n",
    "    'Retail and Consumer Goods': 'Retail',\n",
    "    'Services': 'Support',\n",
    "    'Technology': 'Technology',\n",
    "    'Transportation and Logistics': 'Transportation',  \n",
    "}\n"
   ]
  },
  {
   "cell_type": "code",
   "execution_count": 0,
   "metadata": {
    "application/vnd.databricks.v1+cell": {
     "cellMetadata": {
      "byteLimit": 2048000,
      "rowLimit": 10000
     },
     "inputWidgets": {},
     "nuid": "298acf91-b4d6-4921-8264-5da499b538a5",
     "showTitle": false,
     "title": ""
    }
   },
   "outputs": [],
   "source": [
    "meta_featsure = {industry_mapping.get(k, k): v for k, v in meta_featsure.items()}"
   ]
  },
  {
   "cell_type": "markdown",
   "metadata": {
    "application/vnd.databricks.v1+cell": {
     "cellMetadata": {
      "byteLimit": 2048000,
      "rowLimit": 10000
     },
     "inputWidgets": {},
     "nuid": "1d5c0d48-685e-4cd9-8912-4d4d1e318f1e",
     "showTitle": false,
     "title": ""
    }
   },
   "source": [
    "KNN model"
   ]
  },
  {
   "cell_type": "code",
   "execution_count": 0,
   "metadata": {
    "application/vnd.databricks.v1+cell": {
     "cellMetadata": {
      "byteLimit": 2048000,
      "rowLimit": 10000
     },
     "inputWidgets": {},
     "nuid": "8703ea27-5be4-4948-ba57-8aa6b2e9da6e",
     "showTitle": false,
     "title": ""
    }
   },
   "outputs": [
    {
     "output_type": "stream",
     "name": "stdout",
     "output_type": "stream",
     "text": [
      "The most similar keys to 'Media' are: ['Support', 'Technology', 'Healthcare']\nThe most similar keys to 'Support' are: ['Media', 'Technology', 'Healthcare']\nThe most similar keys to 'Technology' are: ['Media', 'Support', 'Healthcare']\nThe most similar keys to 'Healthcare' are: ['Media', 'Support', 'Technology']\nThe most similar keys to 'Manufacturing' are: ['Media', 'Support', 'Technology']\nThe most similar keys to 'Legal' are: ['Media', 'Support', 'Technology']\nThe most similar keys to 'Transportation' are: ['Media', 'Support', 'Technology']\nThe most similar keys to 'Other' are: ['Media', 'Support', 'Technology']\nThe most similar keys to 'Retail' are: ['Media', 'Support', 'Technology']\nThe most similar keys to 'Construction' are: ['Media', 'Support', 'Technology']\nThe most similar keys to 'Education' are: ['Media', 'Support', 'Technology']\nThe most similar keys to 'Finance' are: ['Media', 'Support', 'Technology']\n"
     ]
    }
   ],
   "source": [
    "from collections import Counter\n",
    "\n",
    "def euclidean_distance(x, y):\n",
    "    return np.sqrt(np.sum((x - y) ** 2))\n",
    "\n",
    "def knn(dictionary, k=3):\n",
    "    similar_keys = {}\n",
    "    \n",
    "    data = {key: np.array(dictionary[key]) for key in dictionary}\n",
    "    \n",
    "    for key1 in dictionary:\n",
    "        distances = []\n",
    "        for key2 in dictionary:\n",
    "            if key1 != key2:\n",
    "                dist = euclidean_distance(data[key1], data[key2])\n",
    "                distances.append((key2, dist))\n",
    "        \n",
    "        distances.sort(key=lambda x: x[1])\n",
    "        nearest_keys = [key for key, _ in distances[:k]]\n",
    "        \n",
    "        similar_keys[key1] = nearest_keys\n",
    "    \n",
    "    return similar_keys\n",
    "\n",
    "\n",
    "similar_keys = knn(meta_featsure)\n",
    "most_similar = {k:[] for k in meta_featsure.keys()}\n",
    "for key, similar in similar_keys.items():\n",
    "    most_similar[key] = similar\n",
    "    print(f\"The most similar keys to '{key}' are: {similar}\")\n"
   ]
  },
  {
   "cell_type": "markdown",
   "metadata": {
    "application/vnd.databricks.v1+cell": {
     "cellMetadata": {
      "byteLimit": 2048000,
      "rowLimit": 10000
     },
     "inputWidgets": {},
     "nuid": "851a6776-d5d3-4908-a653-58ce33e238b6",
     "showTitle": false,
     "title": ""
    }
   },
   "source": [
    "## Users Data"
   ]
  },
  {
   "cell_type": "markdown",
   "metadata": {
    "application/vnd.databricks.v1+cell": {
     "cellMetadata": {
      "byteLimit": 2048000,
      "rowLimit": 10000
     },
     "inputWidgets": {},
     "nuid": "b596dee9-bcb7-4c59-9586-13d97a57016d",
     "showTitle": false,
     "title": ""
    }
   },
   "source": [
    "#### Null Values Check\n",
    "null values percentage in each column"
   ]
  },
  {
   "cell_type": "code",
   "execution_count": 0,
   "metadata": {
    "application/vnd.databricks.v1+cell": {
     "cellMetadata": {
      "byteLimit": 2048000,
      "rowLimit": 10000
     },
     "inputWidgets": {},
     "nuid": "1f8e12f3-c051-49c6-83db-78d825dba1a2",
     "showTitle": false,
     "title": ""
    }
   },
   "outputs": [],
   "source": [
    "# # get the type of the column\n",
    "# def extract_high_level_type(column_type):\n",
    "#     pattern = r'^\\s*(\\w+)(<.*>)?\\s*$'\n",
    "#     match = re.match(pattern, column_type)\n",
    "#     if match:\n",
    "#         return match.group(1)\n",
    "#     else:\n",
    "#         return None\n",
    "\n",
    "# column_types = profiles.dtypes\n",
    "\n",
    "# for i, (_, c) in enumerate(column_types):\n",
    "#     high_level_type = extract_high_level_type(c)\n",
    "#     column_types[i] = high_level_type\n",
    "\n",
    "# print(f\"columns types = {set(column_types)}\")\n",
    "# print(\"columns missing values:\")\n",
    "# for i, col in enumerate(profiles.columns):\n",
    "#     col_type = column_types[i]\n",
    "#     # null filter to all types\n",
    "#     temp_profiles = profiles.filter(F.col(col).isNotNull())\n",
    "#     # type based filter\n",
    "#     if col_type == 'bigint':\n",
    "#         pass\n",
    "#     elif col_type == 'struct':\n",
    "#         pass\n",
    "#     elif col_type == 'string':\n",
    "#         temp_profiles = temp_profiles.filter(F.col(col) != \"\")\n",
    "#     elif col_type == 'array':\n",
    "#         temp_profiles = temp_profiles.filter(F.size(F.col(col)) > 0)\n",
    "#     else:\n",
    "#         print(\"something is wrong\")\n",
    "\n",
    "#     print(f\"    - '{col}': {np.round((1-(temp_profiles.count() / profiles_original_size))*100, 2)}%\")\n"
   ]
  },
  {
   "cell_type": "markdown",
   "metadata": {
    "application/vnd.databricks.v1+cell": {
     "cellMetadata": {
      "byteLimit": 2048000,
      "rowLimit": 10000
     },
     "inputWidgets": {},
     "nuid": "ade7b0b7-c0a3-4911-856f-bd55f813148a",
     "showTitle": false,
     "title": ""
    }
   },
   "source": [
    "#### Filter 'Profiles' DataFrame"
   ]
  },
  {
   "cell_type": "code",
   "execution_count": 0,
   "metadata": {
    "application/vnd.databricks.v1+cell": {
     "cellMetadata": {
      "byteLimit": 2048000,
      "rowLimit": 10000
     },
     "inputWidgets": {},
     "nuid": "7a0f0d2b-da3c-48fb-8a90-dd5ac5cd966b",
     "showTitle": false,
     "title": ""
    }
   },
   "outputs": [
    {
     "output_type": "stream",
     "name": "stdout",
     "output_type": "stream",
     "text": [
      "filter results:\ninitial number of users = 3,462,290\n    - removed 1,036,694 users without 'experience'\n    - removed 1,018,726 users without 'education'\n    - removed 768,516 users without 'about'\nfinal number of users = 638,354\n"
     ]
    }
   ],
   "source": [
    "# data that contains information for each year\n",
    "columns_with_yearly_data = ['certifications', 'education', 'experience', 'posts']\n",
    "# 'last-year' data that might be usefull \n",
    "possible_columns = ['about', 'current_company']\n",
    "\n",
    "# keep only relevant columns\n",
    "profiles = profiles.select(columns_with_yearly_data + possible_columns + ['id'])\n",
    "\n",
    "# remove users with insufficient yearly data\n",
    "current_size = profiles_original_size\n",
    "print(\"filter results:\")\n",
    "print(f\"initial number of users = {current_size:,}\")\n",
    "for col in ['experience', 'education']:\n",
    "    profiles = profiles.filter(F.size(F.col(col)) > 0)\n",
    "    current_count = profiles.count()\n",
    "    current_removed = current_size - current_count\n",
    "    print(f\"    - removed {current_removed:,} users without '{col}'\")\n",
    "    current_size = current_count\n",
    "\n",
    "# remove users without 'about'\n",
    "profiles = profiles.filter(F.col('about').isNotNull())\n",
    "profiles_size = profiles.count()\n",
    "print(f\"    - removed {current_size-profiles_size:,} users without 'about'\")\n",
    "print(f\"final number of users = {profiles_size:,}\")\n"
   ]
  },
  {
   "cell_type": "markdown",
   "metadata": {
    "application/vnd.databricks.v1+cell": {
     "cellMetadata": {
      "byteLimit": 2048000,
      "rowLimit": 10000
     },
     "inputWidgets": {},
     "nuid": "3ba42e7d-a850-4994-9d34-eb288ab9df69",
     "showTitle": false,
     "title": ""
    }
   },
   "source": [
    "#### Create User-Based Histories"
   ]
  },
  {
   "cell_type": "code",
   "execution_count": 0,
   "metadata": {
    "application/vnd.databricks.v1+cell": {
     "cellMetadata": {
      "byteLimit": 2048000,
      "rowLimit": 10000
     },
     "inputWidgets": {},
     "nuid": "517eb66f-084e-4dd3-9c51-ced2f990036b",
     "showTitle": false,
     "title": ""
    }
   },
   "outputs": [],
   "source": [
    "# all relevant users \n",
    "profiles_ids = list(profiles.select(\"id\").collect())\n",
    "profiles_ids = [r.id for r in profiles_ids]\n",
    "\n",
    "# dictionary of users features\n",
    "ids_dict = {}\n",
    "for id in profiles_ids:\n",
    "    ids_dict[id] = {}\n",
    "    ids_dict[id]['certifications'] = {}\n",
    "    ids_dict[id]['education'] = {}\n",
    "    ids_dict[id]['posts'] = {}\n",
    "    ids_dict[id]['experience'] = {}\n",
    "    ids_dict[id]['cur_company'] = {}\n",
    "    ids_dict[id]['job_count'] = 0\n",
    "    ids_dict[id]['dur'] = 0"
   ]
  },
  {
   "cell_type": "markdown",
   "metadata": {
    "application/vnd.databricks.v1+cell": {
     "cellMetadata": {
      "byteLimit": 2048000,
      "rowLimit": 10000
     },
     "inputWidgets": {},
     "nuid": "22acf6c2-8044-4494-a6a2-47c122738b4b",
     "showTitle": false,
     "title": ""
    }
   },
   "source": [
    "##### 1. certifications history"
   ]
  },
  {
   "cell_type": "code",
   "execution_count": 0,
   "metadata": {
    "application/vnd.databricks.v1+cell": {
     "cellMetadata": {
      "byteLimit": 2048000,
      "rowLimit": 10000
     },
     "inputWidgets": {},
     "nuid": "9603a214-dd65-41f7-bbfc-199ad5c6e087",
     "showTitle": false,
     "title": ""
    }
   },
   "outputs": [],
   "source": [
    "profiles_certifications = profiles.select('id', 'certifications') # .filter(F.size(F.col('certifications')) > 0)\n",
    "for user_row in profiles_certifications.collect():\n",
    "    cur_dates = []\n",
    "    cur_titles = []\n",
    "    cur_len = 0\n",
    "    for row_arr in user_row.certifications:\n",
    "        cur_cer = row_arr.meta\n",
    "        if not isinstance(cur_cer, str):\n",
    "            continue\n",
    "        dates = re.findall(r'\\b\\d{4}\\b', cur_cer)\n",
    "        if dates:\n",
    "            cur_dates.append(int(dates[0]))\n",
    "            cur_titles.append(row_arr.title)\n",
    "            cur_len += 1\n",
    "    \n",
    "    for i in range(cur_len):\n",
    "        ids_dict[user_row.id]['certifications'][cur_dates[i]] = cur_titles[i]"
   ]
  },
  {
   "cell_type": "markdown",
   "metadata": {
    "application/vnd.databricks.v1+cell": {
     "cellMetadata": {
      "byteLimit": 2048000,
      "rowLimit": 10000
     },
     "inputWidgets": {},
     "nuid": "8f46b729-61e5-46c6-87bf-8e7cff91a55c",
     "showTitle": false,
     "title": ""
    }
   },
   "source": [
    "#####2. education history"
   ]
  },
  {
   "cell_type": "code",
   "execution_count": 0,
   "metadata": {
    "application/vnd.databricks.v1+cell": {
     "cellMetadata": {
      "byteLimit": 2048000,
      "rowLimit": 10000
     },
     "inputWidgets": {},
     "nuid": "cd33ac9c-30d2-4a30-be2e-1d0b1f778d12",
     "showTitle": false,
     "title": ""
    }
   },
   "outputs": [],
   "source": [
    "for row in profiles.select('id', 'education').collect():  # .filter(F.size(F.col('education')) > 0)\n",
    "  dates = []\n",
    "  degrees = []\n",
    "  titles = []\n",
    "  degree_count = 0\n",
    "\n",
    "  for val in row.education:\n",
    "    # if val.start_year is None and val.end_year is None: ##### change from or to and\n",
    "    #   continue\n",
    "\n",
    "    if val.start_year is None or val.end_year is None: ##### change from or to and\n",
    "      continue\n",
    "      \n",
    "    # if val.start_year is None or val.end_year is None:\n",
    "    #   if val.start_year is None:\n",
    "    #     dates.append((int(val.end_year)-4, int(val.end_year))) ##################\n",
    "    #   # if val.end_year is None:\n",
    "    #   else:\n",
    "    #     dates.append((int(val.start_year), int(val.start_year)+4)) ##################\n",
    "    #   degrees.append(val.degree)\n",
    "    #   titles.append(val.title)\n",
    "    #   degree_count += 1\n",
    "    #   continue\n",
    "\n",
    "    dates.append((int(val.start_year), int(val.end_year)))\n",
    "    degrees.append(val.degree)\n",
    "    titles.append(val.title)\n",
    "    degree_count += 1\n",
    "  \n",
    "  for i in range(degree_count):\n",
    "    ids_dict[row.id]['education'][degrees[i]] = {'start_year': dates[i][0], 'end_year': dates[i][1], 'title': titles[i]}\n",
    "  "
   ]
  },
  {
   "cell_type": "markdown",
   "metadata": {
    "application/vnd.databricks.v1+cell": {
     "cellMetadata": {
      "byteLimit": 2048000,
      "rowLimit": 10000
     },
     "inputWidgets": {},
     "nuid": "36a57e93-18c3-4c11-ac02-98297f261445",
     "showTitle": false,
     "title": ""
    }
   },
   "source": [
    "##### 3. posts history"
   ]
  },
  {
   "cell_type": "code",
   "execution_count": 0,
   "metadata": {
    "application/vnd.databricks.v1+cell": {
     "cellMetadata": {
      "byteLimit": 2048000,
      "rowLimit": 10000
     },
     "inputWidgets": {},
     "nuid": "165c06e8-77bd-4195-af59-a3896d83f12c",
     "showTitle": false,
     "title": ""
    }
   },
   "outputs": [],
   "source": [
    "for row in profiles.select('id', 'posts').collect():\n",
    "  cur_dates = []\n",
    "  cur_titles = []\n",
    "  counter = 0\n",
    "  for row_val in row.posts:\n",
    "    cur_dates.append(int(row_val.created_at.split('-')[0]))\n",
    "    cur_titles.append(row_val.title)\n",
    "    counter += 1\n",
    "\n",
    "  for i in range(counter):\n",
    "    ids_dict[row.id]['posts'][cur_dates[i]] = cur_titles[i]"
   ]
  },
  {
   "cell_type": "markdown",
   "metadata": {
    "application/vnd.databricks.v1+cell": {
     "cellMetadata": {
      "byteLimit": 2048000,
      "rowLimit": 10000
     },
     "inputWidgets": {},
     "nuid": "af10884f-e656-4583-938d-8bc792fd281f",
     "showTitle": false,
     "title": ""
    }
   },
   "source": [
    "#####4. experience history"
   ]
  },
  {
   "cell_type": "code",
   "execution_count": 0,
   "metadata": {
    "application/vnd.databricks.v1+cell": {
     "cellMetadata": {
      "byteLimit": 2048000,
      "rowLimit": 10000
     },
     "inputWidgets": {},
     "nuid": "68db4625-5b4d-4ce5-a722-68d0ddc1d5ea",
     "showTitle": false,
     "title": ""
    }
   },
   "outputs": [],
   "source": [
    "def duration_to_int(duration_string):\n",
    "    \"convert string like - 'x years y months' (or only part of it) to number of months\"\n",
    "    \"there is an option 'less then a year' - need to think what to do with it\"\n",
    "\n",
    "    if duration_string is None:\n",
    "        return None\n",
    "    months = 0\n",
    "    parts = duration_string.split()\n",
    "    for i in range(0, len(parts), 2):\n",
    "        if parts[i+1] == 'years':\n",
    "            months += 12 * int(parts[i])\n",
    "        elif parts[i+1] == 'year':\n",
    "            months += 12\n",
    "        elif parts[i+1] == 'months':\n",
    "            months += int(parts[i])\n",
    "        elif parts[i+1] == 'month':\n",
    "            months += 1\n",
    "    return months\n",
    "\n",
    "duration_to_int_udf = udf(duration_to_int, IntegerType())\n",
    "\n",
    "# experience_df = profiles.select('id', 'experience').filter(F.col(\"experience\").isNotNull()).filter(F.size(F.col(\"experience\")) > 0)\n",
    "experience_df = profiles.select('id', 'experience')\n",
    "\n",
    "# Explode the experience array to have one row per element in the array\n",
    "exp_experience = experience_df.withColumn(\"exploded_experience\", F.explode(F.col(\"experience\")))\n",
    "# add new columns\n",
    "columns_to_use = [\"company\", \"company_id\", \"title\", \"subtitle\", \"description\", \"start_date\", \"end_date\", \"duration_short\", \n",
    "                  \"location\",  \"positions\"]\n",
    "\n",
    "# add new columns and remove old columns \n",
    "for c in columns_to_use:\n",
    "    exp_experience = exp_experience.withColumn(c, F.col(f\"exploded_experience.{c}\"))\n",
    "exp_experience = exp_experience.withColumn(\"numof_positions\", F.size(F.col(\"positions\")))\n",
    "exp_experience = exp_experience.drop(\"experience\", \"exploded_experience\", \"positions\")\n",
    "\n",
    "# convert to dates, order by start_year\n",
    "exp_experience = exp_experience.withColumn(\"start_date\", F.to_date(\"start_date\", \"MMM yyyy\"))\n",
    "exp_experience = exp_experience.withColumn(\"end_date\", F.to_date(\"end_date\", \"MMM yyyy\"))\n",
    "exp_experience = exp_experience.withColumn(\"duration_months\", duration_to_int_udf(\"duration_short\")).drop(\"duration_short\")\n",
    "# exp_experience = exp_experience.orderBy(\"start_date\")\n",
    "\n",
    "# filter rows with missing data\n",
    "exp_experience = exp_experience.filter(\n",
    "    (F.col(\"start_date\").isNotNull()) | \n",
    "    (F.col(\"end_date\").isNotNull()) | \n",
    "    (F.col(\"duration_months\").isNotNull())\n",
    ")\n",
    "# exp_experience = exp_experience.filter(\n",
    "#     (F.col(\"start_date\").isNotNull()) & \n",
    "#     (F.col(\"end_date\").isNotNull()) & \n",
    "#     (F.col(\"duration_months\").isNotNull())\n",
    "# )\n",
    "\n",
    "# fill missing dates when possible\n",
    "\n",
    "# 1. 'start_date' and 'duration' is knwon -> fill 'end_date'\n",
    "exp_experience = exp_experience.withColumn(\"end_date\", \n",
    "                          when(F.col(\"end_date\").isNull() & F.col(\"start_date\").isNotNull() & F.col(\"duration_months\").isNotNull(),\n",
    "                               add_months(F.col(\"start_date\"), F.col(\"duration_months\")))\n",
    "                         .otherwise(F.col(\"end_date\")))\n",
    "\n",
    "# 2. 'end_date' and 'duration' is knwon -> fill 'start_date'\n",
    "exp_experience = exp_experience.withColumn(\"start_date\", \n",
    "                                 when(F.col(\"start_date\").isNull() & F.col(\"end_date\").isNotNull() & F.col(\"duration_months\").isNotNull(),\n",
    "                                        expr(\"date_sub(end_date, duration_months * 30)\"))  \n",
    "                                .otherwise(F.col(\"start_date\")))\n",
    "\n",
    "# add index\n",
    "exp_experience = exp_experience.withColumn(\"index\", F.monotonically_increasing_id())\n",
    "\n",
    "# flip dataframe order  \n",
    "exp_experience = exp_experience.orderBy(exp_experience.columns[-1], ascending=False)"
   ]
  },
  {
   "cell_type": "code",
   "execution_count": 0,
   "metadata": {
    "application/vnd.databricks.v1+cell": {
     "cellMetadata": {
      "byteLimit": 2048000,
      "rowLimit": 10000
     },
     "inputWidgets": {},
     "nuid": "29fa0594-39e3-47e9-b3cd-6f90d333447e",
     "showTitle": false,
     "title": ""
    }
   },
   "outputs": [],
   "source": [
    "kernel_is_slow = True\n",
    "if kernel_is_slow:\n",
    "    collected_exp_experience = exp_experience.sample(fraction=0.3, seed=42).collect()\n",
    "else:\n",
    "    collected_exp_experience = exp_experience.collect()"
   ]
  },
  {
   "cell_type": "code",
   "execution_count": 0,
   "metadata": {
    "application/vnd.databricks.v1+cell": {
     "cellMetadata": {
      "byteLimit": 2048000,
      "rowLimit": 10000
     },
     "inputWidgets": {},
     "nuid": "3cba6dcf-e38a-46c4-9443-51a1cf277246",
     "showTitle": false,
     "title": ""
    }
   },
   "outputs": [],
   "source": [
    "# collected_exp_experience = exp_experience.collect()\n",
    "for row in collected_exp_experience:\n",
    "\n",
    "    if row.start_date is None or row.end_date is None:\n",
    "        if row.start_date:\n",
    "            start_year = None\n",
    "        if row.end_date is None:\n",
    "            end_year = None\n",
    "    else:\n",
    "        start_year, end_year = int(row.start_date.year), int(row.end_date.year)\n",
    "    industry = [row.company, row.company_id, row.title, row.subtitle, row.description]\n",
    "\n",
    "    ## the way implemented now, remove duplicates (or job in same year, randomly) and keep only one None (randomly)\n",
    "    ids_dict[row.id]['experience'][start_year] = {'end_year': end_year, 'duration': row.duration_months, 'industry': industry, \n",
    "                                              'location': row.location, \"numof_numof_positions\": max(0, row.numof_positions)}"
   ]
  },
  {
   "cell_type": "markdown",
   "metadata": {
    "application/vnd.databricks.v1+cell": {
     "cellMetadata": {
      "byteLimit": 2048000,
      "rowLimit": 10000
     },
     "inputWidgets": {},
     "nuid": "d0c83adf-9d27-4e2c-aaf4-8df517afcc4e",
     "showTitle": false,
     "title": ""
    }
   },
   "source": [
    "#### Last-Year Features"
   ]
  },
  {
   "cell_type": "markdown",
   "metadata": {
    "application/vnd.databricks.v1+cell": {
     "cellMetadata": {
      "byteLimit": 2048000,
      "rowLimit": 10000
     },
     "inputWidgets": {},
     "nuid": "5af7db89-0b03-4222-bdcc-bf0f356434bd",
     "showTitle": false,
     "title": ""
    }
   },
   "source": [
    "#####1. current job"
   ]
  },
  {
   "cell_type": "code",
   "execution_count": 0,
   "metadata": {
    "application/vnd.databricks.v1+cell": {
     "cellMetadata": {
      "byteLimit": 2048000,
      "rowLimit": 10000
     },
     "inputWidgets": {},
     "nuid": "74f09931-12a2-4b4c-9f14-21ffa98b6c9f",
     "showTitle": false,
     "title": ""
    }
   },
   "outputs": [],
   "source": [
    "for row in profiles.select('id', 'current_company').collect():\n",
    "    ids_dict[row.id]['cur_company'] = {'company_id': row.current_company.company_id, 'industry': row.current_company.industry, \n",
    "                                                                           'title': row.current_company.title}"
   ]
  },
  {
   "cell_type": "markdown",
   "metadata": {
    "application/vnd.databricks.v1+cell": {
     "cellMetadata": {
      "byteLimit": 2048000,
      "rowLimit": 10000
     },
     "inputWidgets": {},
     "nuid": "50d4d00a-e840-47d2-b6cb-02305f3a8595",
     "showTitle": false,
     "title": ""
    }
   },
   "source": [
    "#####2. about length"
   ]
  },
  {
   "cell_type": "code",
   "execution_count": 0,
   "metadata": {
    "application/vnd.databricks.v1+cell": {
     "cellMetadata": {
      "byteLimit": 2048000,
      "rowLimit": 10000
     },
     "inputWidgets": {},
     "nuid": "16e8128d-fd7e-4236-954f-478a3d6a7bc0",
     "showTitle": false,
     "title": ""
    }
   },
   "outputs": [],
   "source": [
    "for row in profiles.select('id', 'about').collect():\n",
    "  if row.about == None or row.about == '':\n",
    "    ids_dict[row.id]['about_len'] = 0\n",
    "  else:\n",
    "    ids_dict[row.id]['about_len'] = len(row.about)"
   ]
  },
  {
   "cell_type": "markdown",
   "metadata": {
    "application/vnd.databricks.v1+cell": {
     "cellMetadata": {
      "byteLimit": 2048000,
      "rowLimit": 10000
     },
     "inputWidgets": {},
     "nuid": "8150958b-71ce-4a55-9323-cb360c38bc9b",
     "showTitle": false,
     "title": ""
    }
   },
   "source": [
    "#### Infered Features"
   ]
  },
  {
   "cell_type": "markdown",
   "metadata": {
    "application/vnd.databricks.v1+cell": {
     "cellMetadata": {
      "byteLimit": 2048000,
      "rowLimit": 10000
     },
     "inputWidgets": {},
     "nuid": "ebdae951-89da-434e-b639-05cc6b692956",
     "showTitle": false,
     "title": ""
    }
   },
   "source": [
    "#####1. user age"
   ]
  },
  {
   "cell_type": "code",
   "execution_count": 0,
   "metadata": {
    "application/vnd.databricks.v1+cell": {
     "cellMetadata": {
      "byteLimit": 2048000,
      "rowLimit": 10000
     },
     "inputWidgets": {},
     "nuid": "87224265-89c8-4e74-b152-daa7bee52d5c",
     "showTitle": false,
     "title": ""
    }
   },
   "outputs": [],
   "source": [
    "for id in profiles_ids:\n",
    "  if ids_dict[id]['education']:\n",
    "    min_year = 3000\n",
    "    for val in ids_dict[id]['education']:\n",
    "      if val is None:\n",
    "        continue\n",
    "      # ------------------------------------------------ add check for is bechlor\n",
    "      min_year = min(min_year, ids_dict[id]['education'][val]['start_year'])\n",
    "    ids_dict[id]['age'] = 2024 - min_year + 18\n",
    "  else:\n",
    "    ids_dict[id]['age'] = None"
   ]
  },
  {
   "cell_type": "code",
   "execution_count": 0,
   "metadata": {
    "application/vnd.databricks.v1+cell": {
     "cellMetadata": {
      "byteLimit": 2048000,
      "rowLimit": 10000
     },
     "inputWidgets": {},
     "nuid": "b02ea85c-9e5b-495b-817e-1c92d8c3b64f",
     "showTitle": false,
     "title": ""
    }
   },
   "outputs": [],
   "source": []
  },
  {
   "cell_type": "markdown",
   "metadata": {
    "application/vnd.databricks.v1+cell": {
     "cellMetadata": {
      "byteLimit": 2048000,
      "rowLimit": 10000
     },
     "inputWidgets": {},
     "nuid": "0596d8e6-26a6-412b-af73-5d93b737148a",
     "showTitle": false,
     "title": ""
    }
   },
   "source": [
    "# Create Final Features"
   ]
  },
  {
   "cell_type": "code",
   "execution_count": 0,
   "metadata": {
    "application/vnd.databricks.v1+cell": {
     "cellMetadata": {
      "byteLimit": 2048000,
      "rowLimit": 10000
     },
     "inputWidgets": {},
     "nuid": "4c2dc200-55b4-45ca-b953-7708d6045087",
     "showTitle": false,
     "title": ""
    }
   },
   "outputs": [],
   "source": [
    "def infer_industry(company, company_id, title, subtitle, description):\n",
    "    if title is not None and subtitle is not None:\n",
    "        return use_model(str(title + \" \" + subtitle))\n",
    "    elif title is not None:\n",
    "        return use_model(str(title))\n",
    "    elif description is not None:\n",
    "        return use_model(str(description))\n",
    "    elif company is not None:\n",
    "        return use_model(str(company))\n",
    "    return \"industry\""
   ]
  },
  {
   "cell_type": "code",
   "execution_count": 0,
   "metadata": {
    "application/vnd.databricks.v1+cell": {
     "cellMetadata": {
      "byteLimit": 2048000,
      "rowLimit": 10000
     },
     "inputWidgets": {},
     "nuid": "429acf83-c15f-4da8-bbcb-e36e7ba71c50",
     "showTitle": false,
     "title": ""
    }
   },
   "outputs": [],
   "source": [
    "X = []\n",
    "min_year = 2020\n",
    "train_size = 2 * 10**5\n",
    "\n",
    "labels_2 = []\n",
    "counter = 0\n",
    "\n",
    "for id in profiles_ids:\n",
    "    cur_labels_1 = []\n",
    "    cur_labels_2 = []\n",
    "\n",
    "    # skip users with no experience or no education\n",
    "    if not ids_dict[id]['experience'] or not ids_dict[id]['education']:\n",
    "        continue\n",
    "    \n",
    "    # create samples for each user for each one of the last 4 years\n",
    "    for cur_year in range(2020, 2023):\n",
    "\n",
    "        # age\n",
    "        age = ids_dict[id]['age'] - (2024 - cur_year)\n",
    "\n",
    "        # certification\n",
    "        certifications_count = 0\n",
    "        certifications_fields = []\n",
    "        for cert in ids_dict[id]['certifications']:\n",
    "            if cert <= cur_year:\n",
    "                certifications_count += 1\n",
    "                certifications_fields.append(ids_dict[id]['certifications'][cert])  \n",
    "\n",
    "        # education\n",
    "        education_count = 0\n",
    "        completed_degrees = []\n",
    "        enroll_in = 0\n",
    "        years_of_study = 0\n",
    "        for degree in ids_dict[id]['education']:\n",
    "            # ignore degree without name (most likley highschool)\n",
    "            if degree is None: \n",
    "                continue\n",
    "            start_year, end_year = ids_dict[id]['education'][degree]['start_year'], ids_dict[id]['education'][degree]['end_year']\n",
    "            # completed degrees\n",
    "            if end_year <= cur_year:\n",
    "                education_count += 1\n",
    "                completed_degrees.append([degree, ids_dict[id]['education'][degree]['title']])\n",
    "                years_of_study += (end_year - start_year)\n",
    "            # enrolled degrees \n",
    "            elif start_year <= cur_year:\n",
    "                enroll_in = 1 #.append([degree, ids_dict[id]['education'][degree]['title']])\n",
    "                years_of_study += (cur_year - start_year)\n",
    "        \n",
    "        # posts\n",
    "        posts_count = 0\n",
    "        posts_titles = []\n",
    "        for post_year in ids_dict[id]['posts']:\n",
    "            if post_year <= cur_year:\n",
    "                posts_count += 1\n",
    "                posts_titles.append(ids_dict[id]['posts'][post_year])\n",
    "        \n",
    "        # experience history\n",
    "        avg_duration = 0\n",
    "        job_count = 0\n",
    "        locations_count = set()\n",
    "        for s_year in ids_dict[id]['experience']:\n",
    "            # locations \n",
    "            locations_count.add(ids_dict[id]['experience'][s_year]['location'])\n",
    "            # if started the work before started a degree then ignore\n",
    "            cur_age = ids_dict[id]['age'] - (2024 - s_year)\n",
    "            if cur_age <= 18:\n",
    "                continue\n",
    "            e_year = ids_dict[id]['experience'][s_year]['end_year']\n",
    "            if (s_year is None and e_year is None) or (e_year is not None and e_year < cur_year):\n",
    "                job_count += 1\n",
    "                avg_duration += ids_dict[id]['experience'][s_year]['duration']\n",
    "        if job_count != 0:\n",
    "            avg_duration /= job_count\n",
    "        \n",
    "        # label - leave current job this year or not\n",
    "        label = 0\n",
    "        cur_industry = None\n",
    "        for s_year in ids_dict[id]['experience']:\n",
    "            if ids_dict[id]['experience'][s_year]['end_year'] == cur_year:\n",
    "                label = 1\n",
    "                # cur_industry = infer_industry(ids_dict[id]['experience'][s_year]['industry'])\n",
    "                cur_industry = ids_dict[id]['experience'][s_year]['industry']\n",
    "                break\n",
    "        \n",
    "        # keep current job\n",
    "        if cur_industry is None:\n",
    "            for s_year in ids_dict[id]['experience']:\n",
    "                e_year = ids_dict[id]['experience'][s_year]['end_year']\n",
    "                dur = ids_dict[id]['experience'][s_year]['duration']\n",
    "                if s_year is None:\n",
    "                    continue\n",
    "                if e_year is None or (s_year < cur_year and e_year > cur_year):\n",
    "                    cur_industry = ids_dict[id]['experience'][s_year]['industry']\n",
    "        \n",
    "        if cur_industry is None:\n",
    "            cur_industry = ids_dict[id]['experience'][s_year]['industry']\n",
    "\n",
    "\n",
    "        cur_sample = [cur_year, age, certifications_count, education_count, enroll_in, years_of_study, posts_count, job_count, avg_duration, cur_industry, len(locations_count), label]\n",
    "        cur_labels_1.append(label)\n",
    "\n",
    "        X.append(cur_sample)\n",
    "        counter += 1\n",
    "\n",
    "    cur_labels_2 = []\n",
    "    for i in range(len(cur_labels_1)-2):\n",
    "        if cur_labels_1[i] == 1 or cur_labels_1[i+1] == 1 or cur_labels_1[i+2] == 1:\n",
    "            cur_labels_2.append(1)\n",
    "        else:\n",
    "            cur_labels_2.append(0)\n",
    "    if cur_labels_1[-1] == 1 or cur_labels_1[-2] == 1:\n",
    "        cur_labels_2.append(1)\n",
    "    else:\n",
    "        cur_labels_2.append(0)\n",
    "    if cur_labels_1[-1] == 1:\n",
    "        cur_labels_2.append(1)\n",
    "    else:\n",
    "        cur_labels_2.append(0)\n",
    "    labels_2 += cur_labels_2\n",
    "\n",
    "    if counter == train_size:\n",
    "        break\n",
    "\n",
    "for i, v in enumerate(labels_2):\n",
    "    X[i].append(v)"
   ]
  },
  {
   "cell_type": "code",
   "execution_count": 0,
   "metadata": {
    "application/vnd.databricks.v1+cell": {
     "cellMetadata": {
      "byteLimit": 2048000,
      "rowLimit": 10000
     },
     "inputWidgets": {},
     "nuid": "f623e271-852d-418b-9dc6-f0b4d7e8070a",
     "showTitle": false,
     "title": ""
    }
   },
   "outputs": [],
   "source": [
    "X = random.sample(X, 200000)"
   ]
  },
  {
   "cell_type": "code",
   "execution_count": 0,
   "metadata": {
    "application/vnd.databricks.v1+cell": {
     "cellMetadata": {
      "byteLimit": 2048000,
      "rowLimit": 10000
     },
     "inputWidgets": {},
     "nuid": "34f0fc5b-2b0c-446f-90bf-758692a5efd7",
     "showTitle": false,
     "title": ""
    }
   },
   "outputs": [
    {
     "output_type": "stream",
     "name": "stdout",
     "output_type": "stream",
     "text": [
      "---\n---\n---\n---\n---\n---\n---\n---\n---\n---\n---\n---\n---\n---\n---\n---\n---\n---\n---\n---\n---\n---\n---\n---\n---\n---\n---\n---\n---\n---\n---\n---\n---\n---\n---\n---\n---\n---\n---\n---\n---\n---\n---\n---\n---\n---\n---\n---\n---\n---\n---\n---\n---\n---\n---\n---\n---\n---\n---\n---\n---\n---\n---\n---\n---\n---\n---\n---\n---\n---\n---\n---\n---\n---\n---\n---\n---\n---\n---\n---\n---\n---\n---\n---\n---\n---\n---\n---\n---\n---\n---\n---\n---\n---\n---\n---\n---\n---\n---\n---\n---\n---\n---\n---\n---\n---\n---\n---\n---\n---\n---\n---\n---\n---\n---\n---\n---\n---\n---\n---\n---\n---\n---\n---\n---\n---\n---\n---\n---\n---\n---\n---\n---\n---\n---\n---\n---\n---\n---\n---\n---\n---\n---\n---\n---\n---\n---\n---\n---\n---\n---\n---\n---\n---\n---\n---\n---\n---\n---\n---\n---\n---\n---\n---\n---\n---\n---\n---\n---\n---\n---\n---\n---\n---\n---\n---\n---\n---\n---\n---\n---\n---\n---\n---\n---\n---\n---\n---\n---\n---\n---\n---\n---\n---\n---\n---\n---\n---\n---\n"
     ]
    }
   ],
   "source": [
    "X[0][-4] = infer_industry(*X[0][-4])\n",
    "\n",
    "for i in range(1, len(X)):\n",
    "    if i%1000 == 0:\n",
    "    if X[i][-2] == 0:\n",
    "        X[i][-4] = X[i-1][-4]\n",
    "    else:\n",
    "        X[i][-4] = infer_industry(*X[i][-4])\n",
    "\n"
   ]
  },
  {
   "cell_type": "code",
   "execution_count": 0,
   "metadata": {
    "application/vnd.databricks.v1+cell": {
     "cellMetadata": {
      "byteLimit": 2048000,
      "rowLimit": 10000
     },
     "inputWidgets": {},
     "nuid": "11ea1a7b-def9-4008-932e-10764ba25764",
     "showTitle": false,
     "title": ""
    }
   },
   "outputs": [],
   "source": [
    "for i in range(len(X)):\n",
    "    industry = X[i][-4]\n",
    "    year = X[i][0]\n",
    "    i_data = []\n",
    "    layoff_dict = layoff_i_dict2[year]\n",
    "    funds_dict = funds_i_dict2[year]\n",
    "    \n",
    "    if industry in layoff_dict:\n",
    "        i_data += [layoff_dict[industry][0], layoff_dict[industry][1]]\n",
    "    else:\n",
    "        i_data += [0, 0]\n",
    "    \n",
    "    if industry in funds_dict:\n",
    "        i_data += [funds_dict[industry][0], funds_dict[industry][1]]\n",
    "    else:\n",
    "        i_data += [0, 0]\n",
    "\n",
    "    if industry not in most_similar:\n",
    "        industry = 'Other'\n",
    "    for similar_i in most_similar[industry]: \n",
    "        if similar_i in layoff_dict:\n",
    "            i_data+= [layoff_dict[similar_i][0], layoff_dict[similar_i][1]] \n",
    "        else:\n",
    "            i_data+= [0, 0]\n",
    "        if similar_i in funds_dict:\n",
    "            i_data+= [funds_dict[similar_i][0], funds_dict[similar_i][1]] \n",
    "        else:\n",
    "            i_data+= [0, 0]\n",
    "\n",
    "    for v in i_data:\n",
    "        X[i].insert(-2, v)\n",
    "    X[i].pop(9)\n"
   ]
  },
  {
   "cell_type": "markdown",
   "metadata": {
    "application/vnd.databricks.v1+cell": {
     "cellMetadata": {
      "byteLimit": 2048000,
      "rowLimit": 10000
     },
     "inputWidgets": {},
     "nuid": "28eca4e8-c6ce-4b14-aded-50e26369c7e0",
     "showTitle": false,
     "title": ""
    }
   },
   "source": [
    "# Random Forest Model"
   ]
  },
  {
   "cell_type": "code",
   "execution_count": 0,
   "metadata": {
    "application/vnd.databricks.v1+cell": {
     "cellMetadata": {
      "byteLimit": 2048000,
      "rowLimit": 10000
     },
     "inputWidgets": {},
     "nuid": "bc164bba-2381-4f1b-bb6f-851362ac9203",
     "showTitle": false,
     "title": ""
    }
   },
   "outputs": [],
   "source": [
    "data = X"
   ]
  },
  {
   "cell_type": "code",
   "execution_count": 0,
   "metadata": {
    "application/vnd.databricks.v1+cell": {
     "cellMetadata": {
      "byteLimit": 2048000,
      "rowLimit": 10000
     },
     "inputWidgets": {},
     "nuid": "be10c3f4-76f8-4f0f-8d1a-dd8438fb8c2c",
     "showTitle": false,
     "title": ""
    }
   },
   "outputs": [],
   "source": [
    "final_data = []\n",
    "for i in data:\n",
    "    if len(i) == 28:\n",
    "        final_data.append(i)\n",
    "\n",
    "data = final_data"
   ]
  },
  {
   "cell_type": "code",
   "execution_count": 0,
   "metadata": {
    "application/vnd.databricks.v1+cell": {
     "cellMetadata": {
      "byteLimit": 2048000,
      "rowLimit": 10000
     },
     "inputWidgets": {},
     "nuid": "4875877d-4d61-4c42-a933-15183be95e2c",
     "showTitle": false,
     "title": ""
    }
   },
   "outputs": [
    {
     "output_type": "stream",
     "name": "stdout",
     "output_type": "stream",
     "text": [
      "Out[158]: RandomForestClassifier()"
     ]
    }
   ],
   "source": [
    "import numpy as np\n",
    "from sklearn.ensemble import RandomForestClassifier\n",
    "from sklearn.model_selection import train_test_split\n",
    "from tqdm import tqdm\n",
    "# Step 1: Extract features and labels\n",
    "x = np.array([item[:-2] for item in data])  # Features (remove the last element from each list)\n",
    "y1 = np.array([item[-2] for item in data])    # Labels (last element from each list)\n",
    "y2 = np.array([item[-1] for item in data]) \n",
    "# Step 2: Convert features and labels into numpy arrays (already done above)\n",
    "X_train_1, X_val_1, y_train_1, y_val_1 = train_test_split(x, y1, test_size=0.2, random_state=42)\n",
    "X_train_2, X_val_2, y_train_2, y_val_2 = train_test_split(x, y2, test_size=0.2, random_state=42)\n",
    "\n",
    "\n",
    "# Step 3: Train a Random Forest model\n",
    "rf_model_1 = RandomForestClassifier()\n",
    "rf_model_1.fit(X_train_1, y_train_1)\n",
    "rf_model_2 = RandomForestClassifier()\n",
    "rf_model_2.fit(X_train_2, y_train_2)"
   ]
  },
  {
   "cell_type": "code",
   "execution_count": 0,
   "metadata": {
    "application/vnd.databricks.v1+cell": {
     "cellMetadata": {
      "byteLimit": 2048000,
      "rowLimit": 10000
     },
     "inputWidgets": {},
     "nuid": "8e275d2a-55bd-4a1f-8620-58381bab6c9f",
     "showTitle": false,
     "title": ""
    }
   },
   "outputs": [
    {
     "output_type": "stream",
     "name": "stdout",
     "output_type": "stream",
     "text": [
      "Evaluation metrics for classification 1:\nTraining Accuracy: 0.9755675283764188\nValidation Accuracy: 0.9078953947697385\nTraining Precision: 0.9598261709319169\nValidation Precision: 0.2733485193621868\nTraining Recall: 0.7399493746277546\nValidation Recall: 0.07303712720632989\nTraining F1 Score: 0.8356665405473577\nValidation F1 Score: 0.11527377521613834\nConfusion Matrix (Training):\n [[146144    416]\n [  3493   9939]]\nConfusion Matrix (Validation):\n [[36074   638]\n [ 3046   240]]\n\nEvaluation metrics for classification 2:\nTraining Accuracy: 0.956641582079104\nValidation Accuracy: 0.8424171208560428\nTraining Precision: 0.9174617461746175\nValidation Precision: 0.4866096866096866\nTraining Recall: 0.7997959904272431\nValidation Recall: 0.2750845546786922\nTraining F1 Score: 0.8545976650107947\nValidation F1 Score: 0.3514764893507562\nConfusion Matrix (Training):\n [[132669   1834]\n [  5103  20386]]\nConfusion Matrix (Validation):\n [[31987  1802]\n [ 4501  1708]]\n"
     ]
    }
   ],
   "source": [
    "from sklearn.metrics import accuracy_score, precision_score, recall_score, f1_score, confusion_matrix\n",
    "\n",
    "# Predictions for classification 1\n",
    "y_pred_train_1 = rf_model_1.predict(X_train_1)\n",
    "y_pred_val_1 = rf_model_1.predict(X_val_1)\n",
    "\n",
    "# Evaluation metrics for classification 1\n",
    "print(\"Evaluation metrics for classification 1:\")\n",
    "print(\"Training Accuracy:\", accuracy_score(y_train_1, y_pred_train_1))\n",
    "print(\"Validation Accuracy:\", accuracy_score(y_val_1, y_pred_val_1))\n",
    "print(\"Training Precision:\", precision_score(y_train_1, y_pred_train_1))\n",
    "print(\"Validation Precision:\", precision_score(y_val_1, y_pred_val_1))\n",
    "print(\"Training Recall:\", recall_score(y_train_1, y_pred_train_1))\n",
    "print(\"Validation Recall:\", recall_score(y_val_1, y_pred_val_1))\n",
    "print(\"Training F1 Score:\", f1_score(y_train_1, y_pred_train_1))\n",
    "print(\"Validation F1 Score:\", f1_score(y_val_1, y_pred_val_1))\n",
    "print(\"Confusion Matrix (Training):\\n\", confusion_matrix(y_train_1, y_pred_train_1))\n",
    "print(\"Confusion Matrix (Validation):\\n\", confusion_matrix(y_val_1, y_pred_val_1))\n",
    "\n",
    "# Predictions for classification 2\n",
    "y_pred_train_2 = rf_model_2.predict(X_train_2)\n",
    "y_pred_val_2 = rf_model_2.predict(X_val_2)\n",
    "\n",
    "# Evaluation metrics for classification 2\n",
    "print(\"\\nEvaluation metrics for classification 2:\")\n",
    "print(\"Training Accuracy:\", accuracy_score(y_train_2, y_pred_train_2))\n",
    "print(\"Validation Accuracy:\", accuracy_score(y_val_2, y_pred_val_2))\n",
    "print(\"Training Precision:\", precision_score(y_train_2, y_pred_train_2))\n",
    "print(\"Validation Precision:\", precision_score(y_val_2, y_pred_val_2))\n",
    "print(\"Training Recall:\", recall_score(y_train_2, y_pred_train_2))\n",
    "print(\"Validation Recall:\", recall_score(y_val_2, y_pred_val_2))\n",
    "print(\"Training F1 Score:\", f1_score(y_train_2, y_pred_train_2))\n",
    "print(\"Validation F1 Score:\", f1_score(y_val_2, y_pred_val_2))\n",
    "print(\"Confusion Matrix (Training):\\n\", confusion_matrix(y_train_2, y_pred_train_2))\n",
    "print(\"Confusion Matrix (Validation):\\n\", confusion_matrix(y_val_2, y_pred_val_2))"
   ]
  },
  {
   "cell_type": "markdown",
   "metadata": {
    "application/vnd.databricks.v1+cell": {
     "cellMetadata": {
      "byteLimit": 2048000,
      "rowLimit": 10000
     },
     "inputWidgets": {},
     "nuid": "20060c16-ae2f-421f-a327-1271db7e4359",
     "showTitle": false,
     "title": ""
    }
   },
   "source": [
    "# Data Visualization"
   ]
  },
  {
   "cell_type": "code",
   "execution_count": 0,
   "metadata": {
    "application/vnd.databricks.v1+cell": {
     "cellMetadata": {
      "byteLimit": 2048000,
      "rowLimit": 10000
     },
     "inputWidgets": {},
     "nuid": "c7e94906-2a3e-47b8-8abd-802e61548e2a",
     "showTitle": false,
     "title": ""
    }
   },
   "outputs": [
    {
     "output_type": "display_data",
     "data": {
      "image/png": "[encoded data removed]"
     },
     "metadata": {
      "application/vnd.databricks.v1+output": {
       "addedWidgets": {},
       "arguments": {},
       "data": "data:image/png;base64,iVBORw0KGgoAAAANSUhEUgAAA3sAAAGOCAYAAAAuDRpgAAAAOXRFWHRTb2Z0d2FyZQBNYXRwbG90bGliIHZlcnNpb24zLjQuMywgaHR0cHM6Ly9tYXRwbG90bGliLm9yZy/MnkTPAAAACXBIWXMAAAsTAAALEwEAmpwYAAAw9klEQVR4nO3debgkVX3/8feHVTZFnRFlHVRMgmiiGTFuETUiioJGRQcVIQoJCcZokp9oFFciuAYFRRRkiyBqVBAUjIrGBQU0qEhYRJBFYEBE2UG+vz+qrjTNnbk9c3u5U/f9ep5+puvU6apvnanu298+p06lqpAkSZIkdctqkw5AkiRJkjR8JnuSJEmS1EEme5IkSZLUQSZ7kiRJktRBJnuSJEmS1EEme5IkSZLUQSZ7kjRmSX6RpJI8fNKxTEKSS9rjX9JXvn5bvvsYYzkyyVnj2t+KSrJne77cmeT0ZdTZrm23bVZw26cn+exQAr3ndt+W5Nphb3cZ+6kk7xr1viRpVWWyJ0ljlOQJwKJ2cclyqs4Hb0qSSQcxVyV5MPBR4IvAU4G/n2xEc87U++elE41CkuYwkz1JGq8lwE3A9xljspdknXHta0CnA9sAO084jpFJsmaS1WexiYcDqwNHVNV3qupnQwptlZfkscAjgK8BD0uy7YRDkqQ5yWRPksak/eK/C3AicATwJ0n+tF23XpKbkvzDNK87M8mxPcubJzk+ya+T3Jzk1CR/1LN+UTu87WVJjk7yG+Ckdt1uSb7dvvb6JN9Isniafe6T5LI2pi8keUa7ze166qyWZN8kFyW5LckFSV45YHOcDXwF+LcZ2uySJO/rK9u9jWX9dnlqGOMzknyxjfnCJNsnWT3Je5Ncm+SKJK9fxn6en+T/ktzats/WfetnPNapYZFJ9kryc+BWYOPlHNs+bZy3tdt9Xc+6twH/0y6es6LDW5Osm+RDSa5qj+nMJNsvo+5ebTvfkuTkJJv0rX9jG9+tSa5O8pW213GmGJ6U5Ift6/43yZN71r0nycX9Pbvt/+3tSRbOsPklNO27e/vvvX44SXL/9n1yU5Irk7whyfuSXNJXb7nvJ0lalZnsSdL4PA3YCDge+CxwB+2X1Kq6CfgSTTL4B0keCixuX0OSBwDfBv4I+Lu2/nrAf+fevXfvA34HvBj497ZsEXB0W7YrcBnwP+1+pvb5AuDDNEnpC4AfA4dPczwfBt4MHAbsCHweOCLJcwdsj3cBi5PsMGD9mXyMpm1eAFxK08YHAxvQHOtngfcneXzf67YAPgC8s613P+DUJPfpqTPosT4J2Bt4A/A84IbpAk2yJ3e38fOAz7Sx7dtW+QQwlfi/DHgCcPIgjdD6OLAHsD9Ne1wGnNybcLWeALwGeD3wKuDRwBd64twNeBNN+zyrPbaLaM655VkXOBY4lOZc+w3w5Z4k8QhgS5rhqb32AE6qqqXL2nCbIL4E+HJVXQ6cAuySpP87zZHAM4HXAnsB27ev693WiryfJGnVU1U+fPjw4WMMD5qE6XpgrXb5S8AlQNrlFwC/Bzbuec0bgV8Da7bL7wSuAx7QU+f+NEnFP7TLi4ACPj9DPKsBawD/B+zXU34mcHJf3Y+029yuXX44cBfwyr56RwNnzrDfS4D3tc9PB/6nfb5+u4/dp6vbU7Z7W2/9dnm7dvmtPXW2bsu+3ne8VwEH9pQd2dZ7Yk/ZFsCdwN+tyLG2x3ILsNEA7X4F8Mlp2vgG4D59x7XNDNu7Rz3gT/rjbff5U+DUvnjvADbvKXtSu60d2uWDgc+t4Hn+tnYbu/aUrU9zHh/QU/Zt4Kie5Ye2cT93hu0/pd3+Lu3yi9rlp/XU2aYte3FP2TrAtcAlPWUzvp98+PDhY1V+2LMnSWOQZC3gr2kSsNvb4uNpEosntMtfBm6k6QmZ8pL2NXe0y38FfBX4bZI1kqxB03t3Nk0PYK979QQl+ZMkn09yNU1ieQdNr8Yj2vVrAI+h6XHq1b/8DJov5p+fiqN97deAP8vg16q9C3hykv4enpXxtZ7nF7X/fn2qoKruAi4G7jFMEbimqr7bU+9Smvacug5sRY717Kq6eoY4N6UZ3vmZvvJPA/cFHjXD62fyOCC922+P/TNAf8/eD6vqlz31vgNcw93H/r/Ac5K8Pcm2K/D/Ck3v59R2b6Q5b3uvrTsceOHUcFyaJP5qmuG9yzN13euX2uWTad4DvUM5p94LJ/XEcAvw333bWpH3kyStckz2JGk8ng1sCJySZMMkG9L0rNzG3UM5b6WZefElAO11Q39KO4SztaBdf0ff42nAZn37vEfSkWQD4LS23utpekgeB5wDTA1ZXEAzKUj/MLr+5al6N/TFcSRNb+FDlt0Ud6uq/6aZrGa51+4N6Dc92729v6x1O3cf65RrptnWNdx9DCtyrDMlevTU7687tfyAAbYx0/ZvrKqbp9n+uknW7imb6diPoBnGuQvN/9PVSd41QNJ3Y5tcLWu7ACfQJNG7tEMzXwkcXVV3LmujbTL2YprzeK32fbQ2cCpN4rhmW/XBwO/a91Sv6c7jQd9PkrTKWWPSAUjSPDHV69DfmwPw4iT/VFW/p+ndOSnJ5jRfQpfS0ztFMxTuRJrhZ/1+17dcfctPoOlVemZV/d9UYZL79dS5lqbHr3+CjP7lX9MMdXwSzRf2ftMlEcuyP80xTTej4q3AWn1l91+BbQ/iQcsoO7d9viLH2t/m0/nVMva7Uc/+ZuNXwPpJ1u1L+DYCbq6q23rKlnXsv4I/9Ah+EPhgks1orh/cH7ic5nq8ZVk/yTp9Cd8ftttu+6Ykx9P06F0KbA58coZj+yuaBO0F7aPfs2h6/K4CNkhyn76Eb7rzeND3kyStckz2JGnEkqxHMwnHcTQTfPR6DM3kF0+nGU52Gk1v1C40yd5n2yRwytfadedO03Myk6kJJ/7wZT/JE2mu8TsboKruTPIjmlsifKzntTv1bevrNL1d96uqr65gHPdQVSclOYdmApR+l9Ncg9Zr2lklZ+FBSZ44NZSzTbQfy92Jx9COtXU5cCVND9WXe8p3AX4L/GSW2z+TJul8Ec11hVOTmryI5jq5Xo9NsvnUUM4kT6JJyn7Qv9Gqugw4IMkeNNdEzuQFwKfa7a5PM1lK//l/OHAGzXV+Z/T+CLEMS2gStBdOs+7T7fovAWe1ZTvR9CBO3X7kmdwziZvN+0mS5jyTPUkavZ1pZic8qKq+37siyXdohjAuAb5aVXck+S+aYZYP4d430v4A8HLg60k+TDPRx0Y0sxp+u6qOW04cZ9BcE/jxJO+h6eV7W7uNXu8GPpfkYJpejyfRzEAJbc9WVZ2f5FDg+HZbZ9EMj3wk8IiqevWMrXJP/07zZb3f54EPJ3kTTRLzwnYfw3QtcGySN9NMsPJ2mt66I2H4x1pVd6W5tcLHklxHk+Q/lWamyzdNM/Rw4E232z8vyXHAwe3Q3Z8DewJ/3O6j11KaWTrf2h7TgTTX8X0FIMnHaJKrM2iGsT4N2IpmttHluQXYv03yrgT+haaH9qB7BFz1/STn0lxL+LfL22A7O+rzgU9V1enTrP808Ddtj+ZPk5wEfLRtg6to3lM3c8/e2dm8nyRpzvOaPUkavSXAhf2JHkA78coJwF/3XEt1PE2idyV332ttqv61wF/QzKD5QZqewPfQ3C7gx8sLop045MU01zN9EfgnmunmL+qr91/AP9J8sf4CzXV9/9Ku/m1P1X+gGf62G83090fSJIXfWl4cy/DZ9pj6HQb8RxvPCTS9ku9aie0vz6U0x/c2mrb/HfCsvqRrmMdKVX2c5pYAL6DpiVoC/HNVHbASm5vqsb29p2xP4ChgP5r/6y1oZrns79n7LnAITRsfTjNj5/N71n8P+EuaXs5T2nj3rKovzBDTzTRt9ffA52iG3j6nqn41Td0v0CSHx0+zrteONBPYHLOM9cfS3Dbhee3y7jQTsnyI5trDb9JM/vKHc3g27ydJWhVMTfctSdIytb1e/0YzRb3D3eaQJPvQ9JhtMM2kLHNekh8A51fVK0a8nzVoktnvV9UrR7kvSZorHMYpSbqHJAtp7u/3DZoemqfQDNs73ERv7kiyKfB44F+B01a1RC/JYpprVR/H3TeQH+b2X0xzi4uf0PQI7kkzBHW3Ye9LkuYqkz1JUr/baa7v2o1mONuvaHqO3jLJoHQvrwb2obmFR/+1nauCM2kmI3pjVZ05gu3fBOwBPJxmgp2fAM+rqntNPiNJXeUwTkmSJEnqICdokSRJkqQOMtmTJEmSpA5apa/ZW7BgQS1atGjSYUiSJEnSRJx99tnXVtXC6dat0sneokWLOOussyYdhiRJkiRNRJJLl7XOYZySJEmS1EEme5IkSZLUQSZ7kiRJktRBJnuSJEmS1EEme5IkSZLUQSZ7kiRJktRBJnuSJEmS1EEme5IkSZLUQSZ7kiRJktRBJnuSJEmS1EEme5IkSZLUQSZ7kiRJktRBJnuSJEmS1EFrTDoASZKkLlq078mzev0lB+w4pEgkzVf27EmSJElSB5nsSZIkSVIHOYxTkiRpnpnNEFOHl2oQnmNzg8meJEmStBwmLlpVOYxTkiRJkjrIZE+SJEmSOshkT5IkSZI6yGv2JEnSKs3rqSRpeiZ7ktQRfuGVJEm9TPYkSZI0J/ijlUZtvp1jJnuSJEmrgLn6JXWuxiXJZE+SpE7zi7jUXbN5f8Oq8x73c2zlORunJEmSJHWQPXuSJGkg8+HX9fnSUyJpfjDZkyRJYzcfEkdpVeP7snvGMowzyRFJrkny0+XU2S7J/yY5N8k3xxGXJEmSJHXVuHr2jgQOBo6ebmWSDYGPADtU1S+TPGhMcUnSRPkrqiRJGpWxJHtV9a0ki5ZTZVfgv6rql239a8YRlyRJwzLMxN0fASRJwzBXrtl7BLBmktOBDYCDqmraXkBJ0ujN1WTDyTMkDWqufo5J4zRXkr01gD8HngGsA3wvyRlVdUF/xSR7AXsBbL755mMNUpIkSZJWFXMl2bscuK6qbgJuSvIt4E+BeyV7VXUYcBjA4sWLa6xRSpJWmL1xknQ3PxM1TnPlpupfBJ6cZI0k6wKPB86bcEySJEmStMoaS89ekuOA7YAFSS4H3gqsCVBVh1bVeUm+AvwYuAv4RFUt8zYNkiTNlr+uS5K6blyzcS4ZoM57gfeOIRxJkiRJ6ry5cs2eJK0ynOFNkiStCubKNXuSJEmSpCEy2ZMkSZKkDjLZkyRJkqQOMtmTJEmSpA4y2ZMkSZKkDjLZkyRJkqQO8tYLkuYFb5cgSZLmG3v2JEmSJKmDTPYkSZIkqYMcxilpznLopSRJ0sqzZ0+SJEmSOshkT5IkSZI6yGRPkiRJkjrIZE+SJEmSOsgJWqR5bjaToIAToUiSJM1V9uxJkiRJUgfZsydpaOwllCRJmjvs2ZMkSZKkDjLZkyRJkqQOchintAqazXBJh0pKkiTND/bsSZIkSVIHmexJkiRJUgeZ7EmSJElSB5nsSZIkSVIHmexJkiRJUgeZ7EmSJElSB3nrBWlMvF2CJEmSxmksPXtJjkhyTZKfzlDvcUnuTPKiccQlSZIkSV01rmGcRwI7LK9CktWBA4HTxhGQJEmSJHXZWJK9qvoW8OsZqr0G+BxwzegjkiRJkqRumxMTtCTZBHgB8NEB6u6V5KwkZy1dunT0wUmSJEnSKmhOJHvAfwBvqKq7ZqpYVYdV1eKqWrxw4cLRRyZJkiRJq6C5MhvnYuD4JAALgOckubOqvjDRqCRJkiRpFTUnkr2q2nLqeZIjgS+Z6EmSJEnSyhtLspfkOGA7YEGSy4G3AmsCVNWh44hBkiRJkuaTsSR7VbVkBeruPsJQJEmSJGlemCsTtEiSJEmShshkT5IkSZI6aE5M0CLNVYv2PXmlX3vJATsOMRJJkiRpxdizJ0mSJEkdZLInSZIkSR3kME51jkMvJUmSJHv2JEmSJKmTTPYkSZIkqYNM9iRJkiSpg0z2JEmSJKmDTPYkSZIkqYNM9iRJkiSpg0z2JEmSJKmDTPYkSZIkqYNWKtlLsk6StYcdjCRJkiRpOAZK9pK8L8m27fMdgV8D1yd53iiDkyRJkiStnDUGrPcyYL/2+X7Ay4EbgA8CJ40gLs0zi/Y9eaVfe8kBOw4xEkmSJKkbBk321q2qm5M8EHhoVX0OIMkWowtNkiRJkrSyBk32LkjyMuDhwFcBkiwAbhlVYJIkSZKklTdosvf3wEHAHcDftGXPAk4bRVCSJEmSpNkZKNmrqjOBJ/aV/Sfwn6MISpIkSZI0O4P27JHk6cASYGPgSuD4qvraqAKTJEmSJK28QW+98M/A8TS3XDgZuA74VFsuSZIkSZpjBu3Zez3w9Kr66VRBkmNoJmt5/ygCkyRJkiStvIF69loX9S1fDNQQY5EkSZIkDckyk70kq009gLcBhyfZKsk6SR4BHAa8dUxxSpIkSZJWwPKGcd7J3T13af9d0le2K/CJ0YQmSZIkSVpZy0v2thzWTpIcATwXuKaqtplm/cuAN9AkkL8D9q6qc4a1f0mSJEmab5aZ7FXVpf1l7ZDOjYCrq+quFdjPkcDBwNHLWP8L4KlVdX2SZ9MMEX38CmxfkiRJktRj0Fsv3DfJ0cCtwBXALUmOSnK/QV5fVd+iuW3DstZ/t6qubxfPADYdZLuSJEmSpOkNOhvnh4D1gG2AdYBHAeu25cP2KuDLy1qZZK8kZyU5a+nSpSPYvSRJkiSt+ga9z94OwEOr6uZ2+YIkewA/H2YwSZ5Gk+w9eVl1quowmmGeLF682Fs/TNCifU9e6ddecsCOQ4xEkiRJUr9Be/ZuBRb2lS0AbhtWIEkeTTOz585Vdd2wtitJkiRJ89GgPXufAL6a5APApcAWwOtoe9hmK8nmwH8Br6iqC4axTUmSJEmazwZN9vYHrqS5r97G7fP3AEcM8uIkxwHbAQuSXE5zM/Y1AarqUGA/4IHAR5IA3FlViwc+CkmSJEnSPQyU7FVV0SR2AyV307x+yQzrXw28emW2LUmSJEm6t+Ume0mePsPrC7gOuLCqbhlaVJIkSZKkWZmpZ+/wAbZxX2C1JK+uqs8NISZJkiRJ0iwtN9mrqi0H2UiS7YGPAiZ7kiRJkjQHDHrrheWqqtOAHwxjW5IkSZKk2RtKsgczT8IiSZIkSRqfoSV7kiRJkqS5Y5nJXpI/HWcgkiRJkqThWV7P3v9MPUly4RhikSRJkiQNyfJm4/xNkucCPwMekmRLIP2VquriUQUnSZIkSVo5y0v2Xgv8B7AFTQ/gz6epU8Dqww9Lo7Bo35Nn9fpLDthxSJFIkiRJGrVlDuOsqs9X1cOrak3g5qpabZqHiZ4kSZIkzUGDzsb5QIAkqyV5SBJn8ZQkSZKkOWzQpG3tJEcDtwJXALckOSrJ/UYXmiRJkiRpZQ2a7H0YWA/YBlgHeBSwLvChEcUlSZIkSZqF5U3Q0msH4KFVdXO7fEGSPZh+0hZJkiRJ0oQN2rN3K7Cwr2wBcNtww5EkSZIkDcOgPXufAL6a5APApTS3Y3gdcNioApMkSZIkrbxBk739gSuBXYGN2+fvAY4YUVySJEmSpFkYKNmrqqJJ7EzuJEmSJGkV4P3yJEmSJKmDTPYkSZIkqYNM9iRJkiSpg2ZM9pKsnuSoJGuPIyBJkiRJ0uzNOEFLVf0+yfbAXWOIR30W7XvyrF5/yQE7DikSSZIkSauSQYdxfhB4e5I1RxmMJEmSJGk4Br3P3muABwOvT7IUqKkVVbX5KAKTJEmSJK28QZO9l480CkmSJEnSUA16U/VvzmYnSY4AngtcU1XbTLM+wEHAc4Cbgd2r6oez2ackSZIkzWcDXbOXZO0k+ye5OMkNbdn2SfYZcD9HAjssZ/2zga3ax17ARwfcriRJkiRpGisyQcs2wMu4+3q9c4G9B3lxVX0L+PVyquwMHF2NM4ANkzxkwNgkSZIkSX0GvWbvBcDDq+qmJHcBVNUVSTYZUhybAJf1LF/elv1qSNuXJEmSpHll0GTv9v66SRYC1w09ohkk2YtmqCebbz43JwL13niSJEmSJm3QYZyfAY5KsiVAO8TyYOD4IcVxBbBZz/Kmbdm9VNVhVbW4qhYvXLhwSLuXJEmSpG4ZNNl7E/AL4CfAhsCFwJXA24cUx4nAbmn8BXBDVTmEU5IkSZJW0qC3XrgdeB3wunb45rVVVTO87A+SHAdsByxIcjnwVmDNdtuHAqfQ3HbhIppbL+yxAscgSZIkSeoz6DV7JNkK2AXYGLgyyQlVdeEgr62qJTOsL+AfBo1FkiRJkrR8g95nb1fgR8CjgZuARwE/bMslSZIkSXPMoD177wKe094vD4AkTwGOAT41isAkSZIkSStv0AlaNgC+11d2BrDecMORJEmSJA3DoMneB4B/T3IfgCTrAPu35ZIkSZKkOWaZwziTXAZMzbgZ4MHAa5NcD9y/LfsV8O5RBylJkiRJWjHLu2bv5WOLQpIkSZI0VMtM9qrqm+MMRJIkSZI0PAPNxplkDWAJ8Bhg/d51VbXXCOKSJEmSJM3CoLdeOJbm3npfBq4eXTiSJEmSpGEYNNnbAdisqn43ymAkSZIkScMx6K0XzgUeMMpAJEmSJEnDM2jP3iuATyQ5jb5hnFV19NCjkiRJkiTNyqDJ3u7AU2jur3dLT3kBJnuSJEmSNMcMmuy9FnhMVZ03ymAkSZIkScMx6DV7VwO/HGUgkiRJkqThGbRn74PAsUkOBK7pXVFVFw89KkmSJEnSrAya7B3S/rtzX3kBqw8vHEmSJEnSMAyU7FXVoMM9JUmSJElzgEmcJEmSJHXQQD17Sf6HZsjmvVTVXw41IkmSJEnSrA16zd4n+pYfDLwKOHa44UiSJEmShmHQa/aO6i9L8jngk8A7hh2UJEmSJGl2ZnPN3hXAo4cViCRJkiRpeAa9Zu9v+orWBf4aOGPoEUmSJEmSZm3Qa/Ze0bd8E/BdmputS5IkSZLmmEGv2XvaqAORJEmSJA3PcpO9JJvPtIGq+uXwwpEkSZIkDcNMPXuX0NxfL33l1fPvoENBJUmSJEljMtNsnGsCa7X/Tj02APYFfg2cOuiOkuyQ5PwkFyXZd5r1myf5RpIfJflxkucMfBSSJEmSpHtYbrJXVb+ferRFrwbOA54N7FxVOw6ykySrA4e0r9saWJJk675qbwZOqKrHAC8FPjL4YUiSJEmSes04BDNJaGbjfCuwFPibqvrvFdzPtsBFVXVxu83jgZ2Bn/XUKeC+7fP7AVeu4D4kSZIkSa2ZJmh5EfB24HbgtVX1pZXczybAZT3LlwOP76vzNuC0JK8B1gP+ahkx7QXsBbD55jPOHyNJkiRJ89JMPXsnANfRXJu3S5Jd+itU1W5DimUJcGRVvT/JE4BjkmxTVXf17e8w4DCAxYsX1zTbkSRJkqR5b6Zk7x3cPfPmbFwBbNazvGlb1utVwA4AVfW9JPcBFgDXDGH/kiRJkjSvLDfZq6q3DWk/ZwJbJdmSJsl7KbBrX51fAs8AjkzyJ8B9aK4RlCRJkiStoJluvTAUVXUnsA/NcNDzaGbdPDfJO5Ls1Fb7Z2DPJOcAxwG7V5XDNCVJkiRpJYzthuhVdQpwSl/Zfj3PfwY8aVzxSJIkSVKXjaVnT5IkSZI0XiZ7kiRJktRBAyV7aeyZ5OtJftyW/eV0t2KQJEmSJE3eoD1776C5NcJhwNSdzC8H3jCKoCRJkiRJszNosrc78NyqOp6777v3C+ChowhKkiRJkjQ7gyZ7qwM3ts+nkr31e8okSZIkSXPIoMneKcAHkqwNzTV8wDuBk0YVmCRJkiRp5Q2a7L0eeAhwA3A/mh69LfCaPUmSJEmakwa6qXpV/RZ4QZKNaCZouayqrhppZJIkSZKklTZQspdkqgdwafsgyWpVddeoApMkSZIkrbxBh3HeCdzR/0hyW5JfJHl/kvVHFaQkSZIkacUMmuy9Bvg6sD3wJ8CzgK8B/w/YG3gi8B8jiE+SJEmStBIGGsZJM0HLY6vqhnb5giRnAWdX1cOS/AQ4eyQRSpIkSZJW2KA9e/cF1u0rW5dmZk6Aq4B1hhWUJEmSJGl2Bu3ZOxr4apKDgMuATYHXAke167cHzh9+eJIkSZKklTFosvevwIXAS4GNgV8BhwAfb9d/Azh92MFJkiRJklbOoPfZuws4tH1Mt/7WYQYlSZIkSZqdQXv2aG+ovi2wAMhUeVUdMYK4JEmSJEmzMOhN1Z8PHEszlPORwLnANsC3AZM9SZIkSZpjBp2N813AHlX1GOCm9t+98HYLkiRJkjQnDZrsbV5Vn+krOwrYbcjxSJIkSZKGYNBk75r2mj2AS5I8AXgYsPpowpIkSZIkzcagyd7HgSe3zz9Ic6uFc4CPjCIoSZIkSdLsDDob53vb2y9QVUcnOR1Yr6rOG1lkkiRJkqSVNmOyl2R14MYkG1bVbQBV9cuRRyZJkiRJWmkzDuOsqt8DFwAPHH04kiRJkqRhGHQY538CX0pyEHA5UFMrqurrowhMkiRJkrTyBk329m7/fVtfeQEPHWQDSXYADqKZwfMTVXXANHV2afdRwDlVteuA8UmSJEmSegyU7FXVlrPZSXvd3yHAM2l6Bs9McmJV/aynzlbAG4EnVdX1SR40m31KkiRJ0nw26K0XSLJmkqckeUm7vF6S9QZ8+bbARVV1cVXdDhwP7NxXZ0/gkKq6HqCqrhk0NkmSJEnSPQ2U7CV5FM0kLR8HDm+LnwocMeB+NgEu61m+vC3r9QjgEUm+k+SMdtinJEmSJGklDNqz91Fgv6r6Y+COtuyb3H2j9WFYA9gK2A5YAnw8yYb9lZLsleSsJGctXbp0iLuXJEmSpO4YNNl7JHBs+7wAquomYJ0BX38FsFnP8qZtWa/LgROr6o6q+gVNT+JW/RuqqsOqanFVLV64cOGAu5ckSZKk+WXQZO8S4M97C5JsC1w04OvPBLZKsmWStYCXAif21fkCTa8eSRbQDOu8eMDtS5IkSZJ6DHrrhbcAJyc5FFgryRuBv6OZVGVGVXVnkn2AU2luvXBEVZ2b5B3AWVV1Yrtu+yQ/A34P/GtVXbeCxyNJkiRJYvBbL3ypnTBlT5pr9bYA/rqqzh50R1V1CnBKX9l+Pc8LeH37kCRJkiTNwkDJXpIFVfUj4O9HHI8kSZIkaQgGvWbvl0lOSfKyFbi3niRJkiRpQgZN9jYHvgTsDVyV5Lgkz0sy6DV/kiRJkqQxGijZq6prq+ojVfVkYBvgHGB/4FejDE6SJEmStHIG7dnr9SBgI2AB8JuhRiNJkiRJGoqBkr0kWyd5Z5KLaO6HB/D8qrrXTc8lSZIkSZM36DV33wE+B/wt8I2qugsgyWpTzyVJkiRJc8egyd5GVXX71EKSRwGvBHYFNh5FYJIkSZKklTfoBC23J1mY5LVJfgj8L7AYeO0og5MkSZIkrZzl9uwlWRPYCdgdeBZwEXAcsAWwS1VdM+oAJUmSJEkrbqaevauBjwHnA39RVVtX1TuB25f/MkmSJEnSJM2U7P0Y2BB4PPC4JPcfeUSSJEmSpFlbbrJXVdsBDwNOA/4FuCrJScB6wJojj06SJEmStFJmnKClqi6tqne299R7BvAr4C7gnCTvGXWAkiRJkqQVN9BsnFOq6ttVtRfwYOA1wKNGEpUkSZIkaVZWKNmbUlW3VtVxVfXsYQckSZIkSZq9lUr2JEmSJElzm8meJEmSJHWQyZ4kSZIkdZDJniRJkiR1kMmeJEmSJHWQyZ4kSZIkdZDJniRJkiR1kMmeJEmSJHWQyZ4kSZIkdZDJniRJkiR1kMmeJEmSJHWQyZ4kSZIkddDYkr0kOyQ5P8lFSfZdTr0XJqkki8cVmyRJkiR1zViSvSSrA4cAzwa2BpYk2XqaehsArwW+P464JEmSJKmrxtWzty1wUVVdXFW3A8cDO09T753AgcCtY4pLkiRJkjppXMneJsBlPcuXt2V/kOSxwGZVdfLyNpRkryRnJTlr6dKlw49UkiRJkjpgTkzQkmQ14APAP89Ut6oOq6rFVbV44cKFow9OkiRJklZB40r2rgA261netC2bsgGwDXB6kkuAvwBOdJIWSZIkSVo540r2zgS2SrJlkrWAlwInTq2sqhuqakFVLaqqRcAZwE5VddaY4pMkSZKkThlLsldVdwL7AKcC5wEnVNW5Sd6RZKdxxCBJkiRJ88ka49pRVZ0CnNJXtt8y6m43jpgkSZIkqavmxAQtkiRJkqThMtmTJEmSpA4y2ZMkSZKkDjLZkyRJkqQOMtmTJEmSpA4y2ZMkSZKkDjLZkyRJkqQOMtmTJEmSpA4y2ZMkSZKkDjLZkyRJkqQOMtmTJEmSpA4y2ZMkSZKkDjLZkyRJkqQOMtmTJEmSpA4y2ZMkSZKkDjLZkyRJkqQOMtmTJEmSpA4y2ZMkSZKkDjLZkyRJkqQOMtmTJEmSpA4y2ZMkSZKkDjLZkyRJkqQOMtmTJEmSpA4y2ZMkSZKkDjLZkyRJkqQOMtmTJEmSpA4y2ZMkSZKkDhpbspdkhyTnJ7koyb7TrH99kp8l+XGSryXZYlyxSZIkSVLXjCXZS7I6cAjwbGBrYEmSrfuq/QhYXFWPBj4LvGccsUmSJElSF42rZ29b4KKquriqbgeOB3burVBV36iqm9vFM4BNxxSbJEmSJHXOuJK9TYDLepYvb8uW5VXAl6dbkWSvJGclOWvp0qVDDFGSJEmSumPOTdCS5OXAYuC9062vqsOqanFVLV64cOF4g5MkSZKkVcQaY9rPFcBmPcubtmX3kOSvgH8DnlpVt40pNkmSJEnqnHH17J0JbJVkyyRrAS8FTuytkOQxwMeAnarqmjHFJUmSJEmdNJZkr6ruBPYBTgXOA06oqnOTvCPJTm219wLrA59J8r9JTlzG5iRJkiRJMxjXME6q6hTglL6y/Xqe/9W4YpEkSZKkrptzE7RIkiRJkmbPZE+SJEmSOshkT5IkSZI6yGRPkiRJkjrIZE+SJEmSOshkT5IkSZI6yGRPkiRJkjrIZE+SJEmSOshkT5IkSZI6yGRPkiRJkjrIZE+SJEmSOshkT5IkSZI6yGRPkiRJkjrIZE+SJEmSOshkT5IkSZI6yGRPkiRJkjrIZE+SJEmSOshkT5IkSZI6yGRPkiRJkjrIZE+SJEmSOshkT5IkSZI6yGRPkiRJkjrIZE+SJEmSOshkT5IkSZI6yGRPkiRJkjrIZE+SJEmSOshkT5IkSZI6aGzJXpIdkpyf5KIk+06zfu0kn27Xfz/JonHFJkmSJEldM5ZkL8nqwCHAs4GtgSVJtu6r9irg+qp6OPBB4MBxxCZJkiRJXTSunr1tgYuq6uKquh04Hti5r87OwFHt888Cz0iSMcUnSZIkSZ0yrmRvE+CynuXL27Jp61TVncANwAPHEp0kSZIkdUyqavQ7SV4E7FBVr26XXwE8vqr26anz07bO5e3yz9s61/Ztay9gr3bxj4DzR34Aw7cAuHbGWhoF236ybP/Jsv0nx7afLNt/cmz7ybL954ctqmrhdCvWGFMAVwCb9Sxv2pZNV+fyJGsA9wOu699QVR0GHDaiOMciyVlVtXjSccxHtv1k2f6TZftPjm0/Wbb/5Nj2k2X7a1zDOM8EtkqyZZK1gJcCJ/bVORF4Zfv8RcDXaxzdjpIkSZLUQWPp2auqO5PsA5wKrA4cUVXnJnkHcFZVnQgcDhyT5CLg1zQJoSRJkiRpJYxrGCdVdQpwSl/Zfj3PbwVePK54JmyVHoa6irPtJ8v2nyzbf3Js+8my/SfHtp8s23+eG8sELZIkSZKk8RrXNXuSJEmSpDEy2ZMkSZKkDjLZ07ySJJOOYb6aanv/DzSfeN5LmhQ/dwQme2OVZLMkayVZr122/ccoyeOBJ046jnnsQe2/a4Dn/zgl+fMkD510HPOU5/0Eee5Plt97JsfvPJrim25MkuwIfBk4GPhkkj+qqrv84BuPJM8CjgJunXQs81GS5wJfSHIY8PYkizz/x6M99z8NrN9T5q+9Y+B5P1me+5Pl957J8TuPevmGG7E0NgMOAPYB3gL8ADg9ySP94Bu9JE8GjgD2rqqzk6zflq/T/mv7j1CShwEfAt4IHAPcBHw6yVae/6OV5Gk0X7T2rKofT53zNPc79dwfIc/7yfLcnxy/90yW33nUb2z32ZuvqqqSXAl8D7gQuKaq3pfkDuC0JE+rqgsmG2XnPRr4DnBdki2Adyf5LfDAJG+qqguTpLwPyahcB5xWVae3v6p/G7gTOCbJS6rq0smG12k7AGcBP0iyOfCWJLcANyc5pKoum2x4nXYt8A3P+4nZHjgHOMNzf7zav6WXJfkecAF+7xm3R9J857nW7zwCe/ZGKsnDkzwO2BC4H/CyqTdXVR0EHAS8Kcl9HFoyfG37bw38F/BdYG+aD8AzaH71+iFwcJIN/NAbviSPTPJUYCPgsUn+pVrAe4GTgVckWd3zf7iSbJPksTQ9SlcD7wFOA35G8x64jeazZ23bfriSPDnJy4HfAo9Isq/n/fgkeUqSnYG3ARfT/J313B+TJM9L8rokawL3BXb3e894JNkpyZ40n/vfAf4Rv/MIe/ZGpr1W49+B64GfAP8JfCjJ6lX17rbaCTRDfG7zjTdcPe3/G+B84Ejg98CPquqwts6VwFY0f/w1REmeDRwIXAIsBfYFPpzk1qo6uB3G8wNg56r6/QRD7Zy27d9D0/Y3AO8Hdgc+XFWHtHX+EnhFVXnuD0k7NGpd4GM0f1tvBHah6cm4paoO8rwfnZ72PxRYE1gHeDPNUMKPtomG5/4IJdkeeCfwhqq6I8m+wLeS/L6qDmyr+b1nBNq2fwewb1XdnORw4NXA96vqE20dv/PMUyZ7I5DkiTS/4O5aVT9Kc3H+tjSzIp2RZHXgeODJwJ/T9PxdP6FwO2ea9j8UeGlVvSbJ2j1Vnwo8lOYLwu0TCLWTkmxH8+vty6vqB0lOAn4HvAL4TPul7MPAQ4A/SrIBcKN/+GdvmrY/keZz/v9xz5EcWwCbtNdy3GTbz15V3QXcmOQomh+WdgHuDzwd+G6SO9tk2/N+BKZp/+cB61bV6/s+9z33R6D9u3sM8Lz2s2cBcDnwfODkdgjnl2i+B/m9Z4imafsH0HzeH8M9J2jxO888ZbI3OgdW1Y/a5/8GHFlVV7Zfxt4MvB54PM0QBz/whq+3/d8CHJ5kralfc5O8imaIw65V9ZsJxdhVVwN/2/7ReTDNH/a3AD+l+VV3CbAN8BRgl6r63cQi7Z7+tn8cTdtfSfND07HAXjS/+L6iqm6cXKiddSewOXA4sCewKc3ojpck2Zbmhz/P+9GZav8jgD2TPJLmi+0bk/wTsBue+6NwHXAH8JAkDwQ+Q/N/cS7wCZq/A1sBi4E9/N4zVP1t/1ma3rsbgK8k+U+a834fmsuJfjOpQDUZXrM3Gt+nuU6MthdvbWDjJA+pqouBt9MkGk+vqp9MLszOmq79N6O5bpI091x6JPCSqjp3UkF2VVWdV1XfaBdfBXykqnaiuX5mPZo/Ov8IPMXzf7imaftD2rY/g2ayli1pko3dPPdH5ovAVVX1NeBMYD/gnKr6S5rkz/N+tPrbf2+aa8cA/hTP/ZGoqvOBHYEP0kyM8yngWTTXSj6AZnjh3sD2nv/DtYy2fw5wKvBMYBPgYcASz/35KY5gGK0kawD3Ab5YVc9oL9x/CvBPVXXLZKPrvmW0/6OA/avqt5ONbv5J8hXg36rq7EnHMt+0bf/37Q9OGpEkGwP700wK9f+AY2kS7JOq6tBJxjYfTNP+x9CMojkK+Gw73FMj0k6K9vSqOrin7FTgjVX1Q2eBHJ3ltP3efu7Pbw7jHLGqupPmOoLLkrybZjro3U30xmMZ7b+Hid7o9f9RT/JCYCFwxeSimh+W0/Z+7oxYO1z/Mprhs/9QVSeluefbRRMObV5YRvs/HbjQRG/0qupnNL15wB8+exbQfu6b6I3OMtp+IXDzxILSnGDP3oi1UwuvCZzX/vuMqrpwslHNH7b/5LWTI7yc5jrVl1TVTycc0rxh209GmhtKP2iqBzvJaiYa42P7T177t3cP4F+AFzt8cHxse/Uz2RuTJLsDZ/qmmwzbf3La+y09E/h5e22BxsS2nyyHrE2W7T85bcLxVJrrJ/9v0vHMJ7a9+pnsjYl/dCbL9pckSdJ8Y7InSZIkSR3krRckSZIkqYNM9iRJkiSpg0z2JEmSJKmDTPYkSZIkqYNM9iRJWoYkpye5vr1noSRJqxSTPUmSppFkEfAUoICdJhuNJEkrzmRPkqTp7QacARwJvHKqMMkDk5yU5LdJzkzyriTf7ln/x0m+muTXSc5Pssv4Q5ckCdaYdACSJM1RuwEfAL4PnJFko6q6GjgEuAl4MLAIOBW4FCDJesBXgf2AZwOPAr6a5KdV9bOxH4EkaV6zZ0+SpD5JngxsAZxQVWcDPwd2TbI68ELgrVV1c5vAHdXz0ucCl1TVJ6vqzqr6EfA54MVjPgRJkkz2JEmaxiuB06rq2nb5U23ZQppRMZf11O19vgXw+CS/mXoAL6PpBZQkaawcxilJUo8k6wC7AKsnuaotXhvYENgIuBPYFLigXbdZz8svA75ZVc8cT7SSJC1bqmrSMUiSNGckWUJzXd6fAbf3rDoBOJMm0fs98Gpgc+A04JdV9eQkGwA/Bd4MHN++7s+AG6vqvHHEL0nSFIdxSpJ0T68EPllVv6yqq6YewME0QzL3Ae4HXAUcAxwH3AZQVb8DtgdeClzZ1jmQpmdQkqSxsmdPkqRZSHIg8OCqeuWMlSVJGiN79iRJWgHtffQenca2wKuAz086LkmS+jlBiyRJK2YDmqGbGwNXA+8HvjjRiCRJmobDOCVJkiSpgxzGKUmSJEkdZLInSZIkSR1ksidJkiRJHWSyJ0mSJEkdZLInSZIkSR1ksidJkiRJHfT/AfGFwurI/6rJAAAAAElFTkSuQmCC\n",
       "datasetInfos": [],
       "metadata": {},
       "removedWidgets": [],
       "type": "image"
      }
     },
     "output_type": "display_data"
    }
   ],
   "source": [
    "# number of jobs changed until 2022 per age\n",
    "age_job_hist = {i: []  for i in range(20, 60)}\n",
    "for s in X:\n",
    "    if s[0] == 2022:\n",
    "        if s[1] not in [i for i in range(18, 60)]:\n",
    "            continue\n",
    "        if s[7] == 0:\n",
    "            continue\n",
    "        age_job_hist[s[1]].append(s[7])\n",
    "\n",
    "xs = [str(i) for i in range(20, 60)]\n",
    "vals = [np.mean(age_job_hist[k]) for k in range(20,60)]\n",
    "\n",
    "plt.figure(figsize=(15, 6))\n",
    "plt.bar(xs, vals)\n",
    "\n",
    "plt.title(\"Average Number of Jobs by Age\", fontsize=15)\n",
    "plt.ylabel(\"Average Number of Jobs\", fontsize=12)\n",
    "plt.xlabel(\"Age\", fontsize=12)\n",
    "plt.xticks(rotation=45)\n",
    "plt.xticks(xs[::5])\n",
    "plt.show()"
   ]
  },
  {
   "cell_type": "code",
   "execution_count": 0,
   "metadata": {
    "application/vnd.databricks.v1+cell": {
     "cellMetadata": {
      "byteLimit": 2048000,
      "rowLimit": 10000
     },
     "inputWidgets": {},
     "nuid": "c137d657-e384-495e-8d92-5e6f9ef5f19f",
     "showTitle": false,
     "title": ""
    }
   },
   "outputs": [
    {
     "output_type": "display_data",
     "data": {
      "image/png": "[encoded data removed]"
     },
     "metadata": {
      "application/vnd.databricks.v1+output": {
       "addedWidgets": {},
       "arguments": {},
       "data": "data:image/png;base64,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\n",
       "datasetInfos": [],
       "metadata": {},
       "removedWidgets": [],
       "type": "image"
      }
     },
     "output_type": "display_data"
    }
   ],
   "source": [
    "# average time spent in previous jobs until 2022 per age\n",
    "age_job_hist = {i: []  for i in range(20, 60)}\n",
    "for s in X:\n",
    "    if s[0] == 2022:\n",
    "        if s[1] not in [i for i in range(18, 60)]:\n",
    "            continue\n",
    "        if s[8] == 0:\n",
    "            continue\n",
    "        age_job_hist[s[1]].append(s[8])\n",
    "\n",
    "xs = [str(i) for i in range(20, 60)]\n",
    "vals = [np.mean(age_job_hist[k]) for k in range(20,60)]\n",
    "\n",
    "plt.figure(figsize=(15, 6))\n",
    "plt.bar(xs, vals)\n",
    "\n",
    "plt.title(\"Average Time in a Job by Age\", fontsize=15)\n",
    "plt.ylabel(\"Average Time (in months)\", fontsize=12)\n",
    "plt.xlabel(\"Age\", fontsize=12)\n",
    "plt.xticks(rotation=45)\n",
    "plt.xticks(xs[::5])\n",
    "plt.show()"
   ]
  },
  {
   "cell_type": "code",
   "execution_count": 0,
   "metadata": {
    "application/vnd.databricks.v1+cell": {
     "cellMetadata": {
      "byteLimit": 2048000,
      "rowLimit": 10000
     },
     "inputWidgets": {},
     "nuid": "5915a262-f930-49e4-ab93-4fe758382e61",
     "showTitle": false,
     "title": ""
    }
   },
   "outputs": [
    {
     "output_type": "display_data",
     "data": {
      "image/png": "[encoded data removed]"
     },
     "metadata": {
      "application/vnd.databricks.v1+output": {
       "addedWidgets": {},
       "arguments": {},
       "data": "data:image/png;base64,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\n",
       "datasetInfos": [],
       "metadata": {},
       "removedWidgets": [],
       "type": "image"
      }
     },
     "output_type": "display_data"
    }
   ],
   "source": [
    "# percentage of people that left their job in the year 2022 per age\n",
    "age_job_hist = {i: [0, 1]  for i in range(20, 60)}\n",
    "for s in X:\n",
    "    if s[0] != 2022 or s[1] not in [i for i in range(20, 60)]:\n",
    "        continue\n",
    "    if s[-1] == 1: # change job\n",
    "        age_job_hist[s[1]][0] += 1\n",
    "    age_job_hist[s[1]][1] += 1\n",
    "\n",
    "xs = [str(i) for i in range(20, 60)]\n",
    "vals = [(age_job_hist[k][0] / age_job_hist[k][1]) * 100 for k in range(20,60)]\n",
    "\n",
    "plt.figure(figsize=(15, 6))\n",
    "plt.bar(xs, vals)\n",
    "\n",
    "plt.title(\"Percentage of People that Left Their Job by Age\", fontsize=15)\n",
    "plt.ylabel(\"Percentage of People (%)\", fontsize=12)\n",
    "plt.xlabel(\"Age\", fontsize=12)\n",
    "plt.xticks(rotation=45)\n",
    "plt.xticks(xs[::5])\n",
    "plt.show()"
   ]
  }
 ],
 "metadata": {
  "application/vnd.databricks.v1+notebook": {
   "dashboards": [],
   "language": "python",
   "notebookMetadata": {
    "pythonIndentUnit": 4
   },
   "notebookName": "Porject",
   "widgets": {}
  }
 },
 "nbformat": 4,
 "nbformat_minor": 0
}
